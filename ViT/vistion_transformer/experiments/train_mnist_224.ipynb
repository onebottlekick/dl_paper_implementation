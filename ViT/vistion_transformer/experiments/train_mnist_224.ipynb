{
 "cells": [
  {
   "cell_type": "code",
   "execution_count": 1,
   "metadata": {},
   "outputs": [],
   "source": [
    "import sys\n",
    "sys.path.append('../')\n",
    "\n",
    "import torch\n",
    "import torch.nn as nn\n",
    "from torch.utils.data import DataLoader\n",
    "from torchvision import datasets, transforms\n",
    "\n",
    "from configs import b16_config\n",
    "from model import ViT\n",
    "from utils import Trainer, WarmupCosineSchedule, WarmupLinearSchedule, build_model"
   ]
  },
  {
   "cell_type": "code",
   "execution_count": 2,
   "metadata": {},
   "outputs": [],
   "source": [
    "device = 'cuda' if torch.cuda.is_available() else 'cpu'"
   ]
  },
  {
   "cell_type": "code",
   "execution_count": 3,
   "metadata": {},
   "outputs": [],
   "source": [
    "learning_rate = 1e-3\n",
    "batch_size = 32\n",
    "num_epochs = 20"
   ]
  },
  {
   "cell_type": "code",
   "execution_count": 4,
   "metadata": {},
   "outputs": [],
   "source": [
    "transform = transforms.Compose([\n",
    "    transforms.Resize((224, 224)),\n",
    "    transforms.ToTensor(),\n",
    "    transforms.Normalize((0.5), (0.5))\n",
    "])\n",
    "\n",
    "train_dataset = datasets.MNIST(root='../datasets', train=True, transform=transform)\n",
    "val_dataset = datasets.MNIST(root='../datasets', train=False, transform=transform)\n",
    "\n",
    "train_loader = DataLoader(train_dataset, batch_size=batch_size, shuffle=True)\n",
    "val_loader = DataLoader(val_dataset, batch_size=batch_size, shuffle=True)"
   ]
  },
  {
   "cell_type": "code",
   "execution_count": 5,
   "metadata": {},
   "outputs": [],
   "source": [
    "model_config = b16_config()\n",
    "model_config.update({'img_channels':1, 'num_classes':10})\n",
    "model = build_model(ViT, model_config).to(device)"
   ]
  },
  {
   "cell_type": "code",
   "execution_count": 6,
   "metadata": {},
   "outputs": [],
   "source": [
    "optimizer = torch.optim.Adam(model.parameters(), lr=learning_rate)\n",
    "scheduler = WarmupCosineSchedule(optimizer, num_epochs//5, num_epochs)\n",
    "criterion = nn.CrossEntropyLoss()"
   ]
  },
  {
   "cell_type": "code",
   "execution_count": 7,
   "metadata": {},
   "outputs": [],
   "source": [
    "trainer = Trainer(model, {'train':train_loader, 'validation':val_loader}, criterion, optimizer, scheduler, num_epochs, (1, ), 'pretrained/mnist_224.pth', device)"
   ]
  },
  {
   "cell_type": "code",
   "execution_count": 8,
   "metadata": {},
   "outputs": [
    {
     "name": "stderr",
     "output_type": "stream",
     "text": [
      "train Epoch: 1: 100%|██████████| 1875/1875 [06:38<00:00,  4.70Batch/s, loss=56.878272, top1=0.00%, top5=0.00%]\n",
      "validation Epoch: 1: 100%|██████████| 313/313 [00:23<00:00, 13.10Batch/s, loss=127.814131, top1=0.00%, top5=0.00%]\n"
     ]
    },
    {
     "name": "stdout",
     "output_type": "stream",
     "text": [
      "\n",
      "\n"
     ]
    },
    {
     "name": "stderr",
     "output_type": "stream",
     "text": [
      "train Epoch: 2: 100%|██████████| 1875/1875 [06:40<00:00,  4.68Batch/s, loss=84.582448, top1=16.32%, top5=58.10%] \n",
      "validation Epoch: 2: 100%|██████████| 313/313 [00:24<00:00, 12.92Batch/s, loss=1.065557, top1=28.64%, top5=78.37%]\n"
     ]
    },
    {
     "name": "stdout",
     "output_type": "stream",
     "text": [
      "\n",
      "\n"
     ]
    },
    {
     "name": "stderr",
     "output_type": "stream",
     "text": [
      "train Epoch: 3: 100%|██████████| 1875/1875 [06:40<00:00,  4.68Batch/s, loss=1279.199882, top1=17.57%, top5=62.88%]\n",
      "validation Epoch: 3: 100%|██████████| 313/313 [00:23<00:00, 13.14Batch/s, loss=7.801391, top1=30.02%, top5=74.61%]\n"
     ]
    },
    {
     "name": "stdout",
     "output_type": "stream",
     "text": [
      "\n",
      "\n"
     ]
    },
    {
     "name": "stderr",
     "output_type": "stream",
     "text": [
      "train Epoch: 4: 100%|██████████| 1875/1875 [06:37<00:00,  4.72Batch/s, loss=2.798983, top1=26.73%, top5=76.40%]\n",
      "validation Epoch: 4: 100%|██████████| 313/313 [00:23<00:00, 13.22Batch/s, loss=1.931675, top1=37.63%, top5=81.13%]\n"
     ]
    },
    {
     "name": "stdout",
     "output_type": "stream",
     "text": [
      "\n",
      "\n"
     ]
    },
    {
     "name": "stderr",
     "output_type": "stream",
     "text": [
      "train Epoch: 5: 100%|██████████| 1875/1875 [06:39<00:00,  4.70Batch/s, loss=45812.301880, top1=18.46%, top5=63.16%]\n",
      "validation Epoch: 5: 100%|██████████| 313/313 [00:23<00:00, 13.20Batch/s, loss=246.201496, top1=28.38%, top5=67.00%]\n"
     ]
    },
    {
     "name": "stdout",
     "output_type": "stream",
     "text": [
      "\n",
      "\n"
     ]
    },
    {
     "name": "stderr",
     "output_type": "stream",
     "text": [
      "train Epoch: 6: 100%|██████████| 1875/1875 [06:39<00:00,  4.70Batch/s, loss=79.059852, top1=21.89%, top5=68.93%]\n",
      "validation Epoch: 6: 100%|██████████| 313/313 [00:23<00:00, 13.15Batch/s, loss=153.584530, top1=13.54%, top5=69.15%]\n"
     ]
    },
    {
     "name": "stdout",
     "output_type": "stream",
     "text": [
      "\n",
      "\n"
     ]
    },
    {
     "name": "stderr",
     "output_type": "stream",
     "text": [
      "train Epoch: 7: 100%|██████████| 1875/1875 [06:39<00:00,  4.69Batch/s, loss=30324.041143, top1=20.84%, top5=67.54%]\n",
      "validation Epoch: 7: 100%|██████████| 313/313 [00:23<00:00, 13.20Batch/s, loss=3172.702326, top1=17.74%, top5=56.98%]\n"
     ]
    },
    {
     "name": "stdout",
     "output_type": "stream",
     "text": [
      "\n",
      "\n"
     ]
    },
    {
     "name": "stderr",
     "output_type": "stream",
     "text": [
      "train Epoch: 8: 100%|██████████| 1875/1875 [06:38<00:00,  4.71Batch/s, loss=402.837979, top1=17.52%, top5=63.15%]\n",
      "validation Epoch: 8: 100%|██████████| 313/313 [00:23<00:00, 13.20Batch/s, loss=607.831044, top1=18.52%, top5=66.09%]\n"
     ]
    },
    {
     "name": "stdout",
     "output_type": "stream",
     "text": [
      "\n",
      "\n"
     ]
    },
    {
     "name": "stderr",
     "output_type": "stream",
     "text": [
      "train Epoch: 9: 100%|██████████| 1875/1875 [06:38<00:00,  4.71Batch/s, loss=317.018883, top1=21.54%, top5=69.37%]\n",
      "validation Epoch: 9: 100%|██████████| 313/313 [00:23<00:00, 13.61Batch/s, loss=151.186544, top1=27.30%, top5=76.62%]\n"
     ]
    },
    {
     "name": "stdout",
     "output_type": "stream",
     "text": [
      "\n",
      "\n"
     ]
    },
    {
     "name": "stderr",
     "output_type": "stream",
     "text": [
      "train Epoch: 10: 100%|██████████| 1875/1875 [06:42<00:00,  4.66Batch/s, loss=3147.572569, top1=22.43%, top5=70.41%]\n",
      "validation Epoch: 10: 100%|██████████| 313/313 [00:24<00:00, 12.90Batch/s, loss=317.690999, top1=25.34%, top5=69.39%]\n"
     ]
    },
    {
     "name": "stdout",
     "output_type": "stream",
     "text": [
      "\n",
      "\n"
     ]
    },
    {
     "name": "stderr",
     "output_type": "stream",
     "text": [
      "train Epoch: 11: 100%|██████████| 1875/1875 [06:39<00:00,  4.70Batch/s, loss=66.922000, top1=24.38%, top5=73.67%]\n",
      "validation Epoch: 11: 100%|██████████| 313/313 [00:23<00:00, 13.19Batch/s, loss=91.264260, top1=20.31%, top5=74.37%]\n"
     ]
    },
    {
     "name": "stdout",
     "output_type": "stream",
     "text": [
      "\n",
      "\n"
     ]
    },
    {
     "name": "stderr",
     "output_type": "stream",
     "text": [
      "train Epoch: 12: 100%|██████████| 1875/1875 [06:46<00:00,  4.61Batch/s, loss=21.379462, top1=26.31%, top5=76.07%]\n",
      "validation Epoch: 12: 100%|██████████| 313/313 [00:24<00:00, 12.71Batch/s, loss=34.776254, top1=23.54%, top5=80.37%]\n"
     ]
    },
    {
     "name": "stdout",
     "output_type": "stream",
     "text": [
      "\n",
      "\n"
     ]
    },
    {
     "name": "stderr",
     "output_type": "stream",
     "text": [
      "train Epoch: 13: 100%|██████████| 1875/1875 [06:44<00:00,  4.63Batch/s, loss=229.652022, top1=26.92%, top5=75.89%]\n",
      "validation Epoch: 13: 100%|██████████| 313/313 [00:23<00:00, 13.17Batch/s, loss=25.459415, top1=30.10%, top5=77.41%]\n"
     ]
    },
    {
     "name": "stdout",
     "output_type": "stream",
     "text": [
      "\n",
      "\n"
     ]
    },
    {
     "name": "stderr",
     "output_type": "stream",
     "text": [
      "train Epoch: 14: 100%|██████████| 1875/1875 [06:46<00:00,  4.61Batch/s, loss=7.313015, top1=33.48%, top5=83.10%]\n",
      "validation Epoch: 14: 100%|██████████| 313/313 [00:25<00:00, 12.32Batch/s, loss=9.769707, top1=39.17%, top5=79.62%]\n"
     ]
    },
    {
     "name": "stdout",
     "output_type": "stream",
     "text": [
      "\n",
      "\n"
     ]
    },
    {
     "name": "stderr",
     "output_type": "stream",
     "text": [
      "train Epoch: 15: 100%|██████████| 1875/1875 [06:43<00:00,  4.64Batch/s, loss=21.404845, top1=36.72%, top5=84.76%]\n",
      "validation Epoch: 15: 100%|██████████| 313/313 [00:23<00:00, 13.16Batch/s, loss=8.558655, top1=44.10%, top5=89.67%]\n"
     ]
    },
    {
     "name": "stdout",
     "output_type": "stream",
     "text": [
      "\n",
      "\n"
     ]
    },
    {
     "name": "stderr",
     "output_type": "stream",
     "text": [
      "train Epoch: 16: 100%|██████████| 1875/1875 [06:42<00:00,  4.66Batch/s, loss=2.384568, top1=45.51%, top5=90.99%]\n",
      "validation Epoch: 16: 100%|██████████| 313/313 [00:24<00:00, 12.86Batch/s, loss=4.424798, top1=39.30%, top5=90.56%]\n"
     ]
    },
    {
     "name": "stdout",
     "output_type": "stream",
     "text": [
      "\n",
      "\n"
     ]
    },
    {
     "name": "stderr",
     "output_type": "stream",
     "text": [
      "train Epoch: 17: 100%|██████████| 1875/1875 [06:39<00:00,  4.69Batch/s, loss=1.301877, top1=48.39%, top5=92.14%]\n",
      "validation Epoch: 17: 100%|██████████| 313/313 [00:23<00:00, 13.26Batch/s, loss=1.822670, top1=52.75%, top5=93.91%]\n"
     ]
    },
    {
     "name": "stdout",
     "output_type": "stream",
     "text": [
      "\n",
      "\n"
     ]
    },
    {
     "name": "stderr",
     "output_type": "stream",
     "text": [
      "train Epoch: 18: 100%|██████████| 1875/1875 [06:38<00:00,  4.70Batch/s, loss=0.837445, top1=51.27%, top5=93.40%]\n",
      "validation Epoch: 18: 100%|██████████| 313/313 [00:23<00:00, 13.18Batch/s, loss=2.626578, top1=36.95%, top5=90.98%]\n"
     ]
    },
    {
     "name": "stdout",
     "output_type": "stream",
     "text": [
      "\n",
      "\n"
     ]
    },
    {
     "name": "stderr",
     "output_type": "stream",
     "text": [
      "train Epoch: 19: 100%|██████████| 1875/1875 [06:39<00:00,  4.69Batch/s, loss=0.501240, top1=54.29%, top5=94.36%]\n",
      "validation Epoch: 19: 100%|██████████| 313/313 [00:23<00:00, 13.20Batch/s, loss=1.277218, top1=50.01%, top5=92.62%]\n"
     ]
    },
    {
     "name": "stdout",
     "output_type": "stream",
     "text": [
      "\n",
      "\n"
     ]
    },
    {
     "name": "stderr",
     "output_type": "stream",
     "text": [
      "train Epoch: 20: 100%|██████████| 1875/1875 [06:35<00:00,  4.75Batch/s, loss=0.315113, top1=58.29%, top5=95.74%]\n",
      "validation Epoch: 20: 100%|██████████| 313/313 [00:23<00:00, 13.29Batch/s, loss=0.696827, top1=55.23%, top5=94.38%]\n"
     ]
    },
    {
     "name": "stdout",
     "output_type": "stream",
     "text": [
      "\n",
      "\n"
     ]
    }
   ],
   "source": [
    "trainer.train()"
   ]
  },
  {
   "cell_type": "code",
   "execution_count": null,
   "metadata": {},
   "outputs": [],
   "source": []
  }
 ],
 "metadata": {
  "kernelspec": {
   "display_name": "Python 3.8.7 64-bit (system)",
   "language": "python",
   "name": "python3"
  },
  "language_info": {
   "codemirror_mode": {
    "name": "ipython",
    "version": 3
   },
   "file_extension": ".py",
   "mimetype": "text/x-python",
   "name": "python",
   "nbconvert_exporter": "python",
   "pygments_lexer": "ipython3",
   "version": "3.8.7"
  },
  "orig_nbformat": 4,
  "vscode": {
   "interpreter": {
    "hash": "a0503cd272f4e60dfbd7907e20bb095a1c0b2d6fab5f23904edfa33d092ec8bd"
   }
  }
 },
 "nbformat": 4,
 "nbformat_minor": 2
}
