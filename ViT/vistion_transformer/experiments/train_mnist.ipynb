{
 "cells": [
  {
   "cell_type": "code",
   "execution_count": 1,
   "metadata": {},
   "outputs": [],
   "source": [
    "import sys\n",
    "sys.path.append('../')\n",
    "\n",
    "import torch\n",
    "import torch.nn as nn\n",
    "from torch.utils.data import DataLoader\n",
    "from torchvision import datasets, transforms\n",
    "\n",
    "from configs import mnist_config\n",
    "from model import ViT\n",
    "from utils import Trainer, WarmupCosineSchedule, WarmupLinearSchedule, build_model"
   ]
  },
  {
   "cell_type": "code",
   "execution_count": 2,
   "metadata": {},
   "outputs": [],
   "source": [
    "device = 'cuda' if torch.cuda.is_available() else 'cpu'"
   ]
  },
  {
   "cell_type": "code",
   "execution_count": 3,
   "metadata": {},
   "outputs": [],
   "source": [
    "learning_rate = 1e-3\n",
    "batch_size = 64\n",
    "num_epochs = 20"
   ]
  },
  {
   "cell_type": "code",
   "execution_count": 4,
   "metadata": {},
   "outputs": [],
   "source": [
    "transform = transforms.Compose([\n",
    "    transforms.ToTensor(),\n",
    "    transforms.Normalize((0.5), (0.5))\n",
    "])\n",
    "\n",
    "train_dataset = datasets.MNIST(root='../datasets', train=True, transform=transform)\n",
    "val_dataset = datasets.MNIST(root='../datasets', train=False, transform=transform)\n",
    "\n",
    "train_loader = DataLoader(train_dataset, batch_size=batch_size, shuffle=True)\n",
    "val_loader = DataLoader(val_dataset, batch_size=batch_size, shuffle=True)"
   ]
  },
  {
   "cell_type": "code",
   "execution_count": 5,
   "metadata": {},
   "outputs": [],
   "source": [
    "model_config = mnist_config()\n",
    "model = build_model(ViT, model_config).to(device)"
   ]
  },
  {
   "cell_type": "code",
   "execution_count": 6,
   "metadata": {},
   "outputs": [],
   "source": [
    "optimizer = torch.optim.Adam(model.parameters(), lr=learning_rate)\n",
    "scheduler = WarmupCosineSchedule(optimizer, num_epochs//5, num_epochs)\n",
    "criterion = nn.CrossEntropyLoss()"
   ]
  },
  {
   "cell_type": "code",
   "execution_count": 7,
   "metadata": {},
   "outputs": [],
   "source": [
    "trainer = Trainer(model, {'train':train_loader, 'validation':val_loader}, criterion, optimizer, scheduler, num_epochs, (1, ), 'mnist.pth', device)"
   ]
  },
  {
   "cell_type": "code",
   "execution_count": 8,
   "metadata": {},
   "outputs": [
    {
     "name": "stderr",
     "output_type": "stream",
     "text": [
      "train Epoch: 1: 100%|██████████| 938/938 [00:30<00:00, 30.83Batch/s, loss=4.866860, top1=11.47%, top5=49.27%]\n",
      "validation Epoch: 1: 100%|██████████| 157/157 [00:02<00:00, 76.93Batch/s, loss=3.627524, top1=13.71%, top5=47.57%]\n"
     ]
    },
    {
     "name": "stdout",
     "output_type": "stream",
     "text": [
      "\n",
      "\n"
     ]
    },
    {
     "name": "stderr",
     "output_type": "stream",
     "text": [
      "train Epoch: 2: 100%|██████████| 938/938 [00:28<00:00, 32.36Batch/s, loss=0.201183, top1=72.01%, top5=95.86%]\n",
      "validation Epoch: 2: 100%|██████████| 157/157 [00:02<00:00, 77.41Batch/s, loss=0.160860, top1=89.34%, top5=99.43%]\n"
     ]
    },
    {
     "name": "stdout",
     "output_type": "stream",
     "text": [
      "\n",
      "\n"
     ]
    },
    {
     "name": "stderr",
     "output_type": "stream",
     "text": [
      "train Epoch: 3: 100%|██████████| 938/938 [00:29<00:00, 32.26Batch/s, loss=0.176811, top1=87.50%, top5=99.40%]\n",
      "validation Epoch: 3: 100%|██████████| 157/157 [00:02<00:00, 76.59Batch/s, loss=0.269000, top1=92.57%, top5=99.59%]\n"
     ]
    },
    {
     "name": "stdout",
     "output_type": "stream",
     "text": [
      "\n",
      "\n"
     ]
    },
    {
     "name": "stderr",
     "output_type": "stream",
     "text": [
      "train Epoch: 4: 100%|██████████| 938/938 [00:28<00:00, 32.45Batch/s, loss=0.444269, top1=90.78%, top5=99.65%]\n",
      "validation Epoch: 4: 100%|██████████| 157/157 [00:01<00:00, 79.22Batch/s, loss=0.002629, top1=94.07%, top5=99.78%]\n"
     ]
    },
    {
     "name": "stdout",
     "output_type": "stream",
     "text": [
      "\n",
      "\n"
     ]
    },
    {
     "name": "stderr",
     "output_type": "stream",
     "text": [
      "train Epoch: 5: 100%|██████████| 938/938 [00:28<00:00, 32.59Batch/s, loss=0.088275, top1=92.42%, top5=99.73%]\n",
      "validation Epoch: 5: 100%|██████████| 157/157 [00:01<00:00, 80.43Batch/s, loss=0.014029, top1=94.89%, top5=99.88%]\n"
     ]
    },
    {
     "name": "stdout",
     "output_type": "stream",
     "text": [
      "\n",
      "\n"
     ]
    },
    {
     "name": "stderr",
     "output_type": "stream",
     "text": [
      "train Epoch: 6: 100%|██████████| 938/938 [00:28<00:00, 32.74Batch/s, loss=0.046392, top1=94.03%, top5=99.81%]\n",
      "validation Epoch: 6: 100%|██████████| 157/157 [00:01<00:00, 79.37Batch/s, loss=0.203331, top1=94.39%, top5=99.79%]\n"
     ]
    },
    {
     "name": "stdout",
     "output_type": "stream",
     "text": [
      "\n",
      "\n"
     ]
    },
    {
     "name": "stderr",
     "output_type": "stream",
     "text": [
      "train Epoch: 7: 100%|██████████| 938/938 [00:28<00:00, 32.56Batch/s, loss=0.102743, top1=94.90%, top5=99.86%]\n",
      "validation Epoch: 7: 100%|██████████| 157/157 [00:02<00:00, 77.83Batch/s, loss=0.112094, top1=95.99%, top5=99.89%]\n"
     ]
    },
    {
     "name": "stdout",
     "output_type": "stream",
     "text": [
      "\n",
      "\n"
     ]
    },
    {
     "name": "stderr",
     "output_type": "stream",
     "text": [
      "train Epoch: 8: 100%|██████████| 938/938 [00:28<00:00, 32.43Batch/s, loss=0.221623, top1=95.64%, top5=99.90%]\n",
      "validation Epoch: 8: 100%|██████████| 157/157 [00:01<00:00, 79.28Batch/s, loss=0.011450, top1=96.54%, top5=99.91%]\n"
     ]
    },
    {
     "name": "stdout",
     "output_type": "stream",
     "text": [
      "\n",
      "\n"
     ]
    },
    {
     "name": "stderr",
     "output_type": "stream",
     "text": [
      "train Epoch: 9: 100%|██████████| 938/938 [00:28<00:00, 32.56Batch/s, loss=0.050441, top1=96.25%, top5=99.93%]\n",
      "validation Epoch: 9: 100%|██████████| 157/157 [00:01<00:00, 79.17Batch/s, loss=0.017448, top1=95.89%, top5=99.93%]\n"
     ]
    },
    {
     "name": "stdout",
     "output_type": "stream",
     "text": [
      "\n",
      "\n"
     ]
    },
    {
     "name": "stderr",
     "output_type": "stream",
     "text": [
      "train Epoch: 10: 100%|██████████| 938/938 [00:28<00:00, 32.65Batch/s, loss=0.109524, top1=96.63%, top5=99.94%]\n",
      "validation Epoch: 10: 100%|██████████| 157/157 [00:01<00:00, 79.60Batch/s, loss=0.042526, top1=97.10%, top5=99.95%]\n"
     ]
    },
    {
     "name": "stdout",
     "output_type": "stream",
     "text": [
      "\n",
      "\n"
     ]
    },
    {
     "name": "stderr",
     "output_type": "stream",
     "text": [
      "train Epoch: 11: 100%|██████████| 938/938 [00:28<00:00, 32.60Batch/s, loss=0.101646, top1=97.11%, top5=99.96%]\n",
      "validation Epoch: 11: 100%|██████████| 157/157 [00:01<00:00, 79.15Batch/s, loss=0.369809, top1=97.06%, top5=99.93%]\n"
     ]
    },
    {
     "name": "stdout",
     "output_type": "stream",
     "text": [
      "\n",
      "\n"
     ]
    },
    {
     "name": "stderr",
     "output_type": "stream",
     "text": [
      "train Epoch: 12: 100%|██████████| 938/938 [00:29<00:00, 32.05Batch/s, loss=0.261646, top1=97.51%, top5=99.97%]\n",
      "validation Epoch: 12: 100%|██████████| 157/157 [00:01<00:00, 78.85Batch/s, loss=0.011615, top1=97.33%, top5=99.95%]\n"
     ]
    },
    {
     "name": "stdout",
     "output_type": "stream",
     "text": [
      "\n",
      "\n"
     ]
    },
    {
     "name": "stderr",
     "output_type": "stream",
     "text": [
      "train Epoch: 13: 100%|██████████| 938/938 [00:28<00:00, 32.35Batch/s, loss=0.055056, top1=97.99%, top5=99.97%]\n",
      "validation Epoch: 13: 100%|██████████| 157/157 [00:01<00:00, 80.93Batch/s, loss=0.692583, top1=97.47%, top5=99.91%]\n"
     ]
    },
    {
     "name": "stdout",
     "output_type": "stream",
     "text": [
      "\n",
      "\n"
     ]
    },
    {
     "name": "stderr",
     "output_type": "stream",
     "text": [
      "train Epoch: 14: 100%|██████████| 938/938 [00:28<00:00, 33.34Batch/s, loss=0.008043, top1=98.42%, top5=99.99%] \n",
      "validation Epoch: 14: 100%|██████████| 157/157 [00:01<00:00, 80.39Batch/s, loss=0.442880, top1=97.80%, top5=99.96%]\n"
     ]
    },
    {
     "name": "stdout",
     "output_type": "stream",
     "text": [
      "\n",
      "\n"
     ]
    },
    {
     "name": "stderr",
     "output_type": "stream",
     "text": [
      "train Epoch: 15: 100%|██████████| 938/938 [00:28<00:00, 32.78Batch/s, loss=0.004279, top1=98.84%, top5=100.00%]\n",
      "validation Epoch: 15: 100%|██████████| 157/157 [00:01<00:00, 78.81Batch/s, loss=0.005285, top1=97.69%, top5=99.96%]\n"
     ]
    },
    {
     "name": "stdout",
     "output_type": "stream",
     "text": [
      "\n",
      "\n"
     ]
    },
    {
     "name": "stderr",
     "output_type": "stream",
     "text": [
      "train Epoch: 16: 100%|██████████| 938/938 [00:28<00:00, 32.93Batch/s, loss=0.008796, top1=99.17%, top5=100.00%]\n",
      "validation Epoch: 16: 100%|██████████| 157/157 [00:01<00:00, 80.36Batch/s, loss=0.042066, top1=98.16%, top5=99.98%]\n"
     ]
    },
    {
     "name": "stdout",
     "output_type": "stream",
     "text": [
      "\n",
      "\n"
     ]
    },
    {
     "name": "stderr",
     "output_type": "stream",
     "text": [
      "train Epoch: 17: 100%|██████████| 938/938 [00:28<00:00, 33.44Batch/s, loss=0.024984, top1=99.50%, top5=100.00%]\n",
      "validation Epoch: 17: 100%|██████████| 157/157 [00:01<00:00, 79.57Batch/s, loss=0.000354, top1=98.29%, top5=99.94%]\n"
     ]
    },
    {
     "name": "stdout",
     "output_type": "stream",
     "text": [
      "\n",
      "\n"
     ]
    },
    {
     "name": "stderr",
     "output_type": "stream",
     "text": [
      "train Epoch: 18: 100%|██████████| 938/938 [00:28<00:00, 32.64Batch/s, loss=0.000611, top1=99.67%, top5=100.00%]\n",
      "validation Epoch: 18: 100%|██████████| 157/157 [00:01<00:00, 80.39Batch/s, loss=0.000009, top1=98.33%, top5=99.98%]\n"
     ]
    },
    {
     "name": "stdout",
     "output_type": "stream",
     "text": [
      "\n",
      "\n"
     ]
    },
    {
     "name": "stderr",
     "output_type": "stream",
     "text": [
      "train Epoch: 19: 100%|██████████| 938/938 [00:28<00:00, 32.37Batch/s, loss=0.000144, top1=99.79%, top5=100.00%]\n",
      "validation Epoch: 19: 100%|██████████| 157/157 [00:01<00:00, 79.80Batch/s, loss=0.156243, top1=98.42%, top5=99.97%]\n"
     ]
    },
    {
     "name": "stdout",
     "output_type": "stream",
     "text": [
      "\n",
      "\n"
     ]
    },
    {
     "name": "stderr",
     "output_type": "stream",
     "text": [
      "train Epoch: 20: 100%|██████████| 938/938 [00:28<00:00, 32.36Batch/s, loss=0.000197, top1=99.85%, top5=100.00%]\n",
      "validation Epoch: 20: 100%|██████████| 157/157 [00:01<00:00, 79.10Batch/s, loss=0.001372, top1=98.49%, top5=99.97%]"
     ]
    },
    {
     "name": "stdout",
     "output_type": "stream",
     "text": [
      "\n",
      "\n"
     ]
    },
    {
     "name": "stderr",
     "output_type": "stream",
     "text": [
      "\n"
     ]
    }
   ],
   "source": [
    "trainer.train()"
   ]
  }
 ],
 "metadata": {
  "kernelspec": {
   "display_name": "Python 3.8.7 64-bit (system)",
   "language": "python",
   "name": "python3"
  },
  "language_info": {
   "codemirror_mode": {
    "name": "ipython",
    "version": 3
   },
   "file_extension": ".py",
   "mimetype": "text/x-python",
   "name": "python",
   "nbconvert_exporter": "python",
   "pygments_lexer": "ipython3",
   "version": "3.8.7"
  },
  "orig_nbformat": 4,
  "vscode": {
   "interpreter": {
    "hash": "a0503cd272f4e60dfbd7907e20bb095a1c0b2d6fab5f23904edfa33d092ec8bd"
   }
  }
 },
 "nbformat": 4,
 "nbformat_minor": 2
}
