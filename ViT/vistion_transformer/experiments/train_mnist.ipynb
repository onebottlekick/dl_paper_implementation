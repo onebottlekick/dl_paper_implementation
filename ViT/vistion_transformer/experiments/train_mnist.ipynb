{
 "cells": [
  {
   "cell_type": "code",
   "execution_count": 1,
   "metadata": {},
   "outputs": [],
   "source": [
    "import sys\n",
    "sys.path.append('../')\n",
    "\n",
    "import torch\n",
    "import torch.nn as nn\n",
    "from torch.utils.data import DataLoader\n",
    "from torchvision import datasets, transforms\n",
    "\n",
    "from configs import mnist_config\n",
    "from model import ViT\n",
    "from utils import Trainer, WarmupCosineSchedule, WarmupLinearSchedule, build_model"
   ]
  },
  {
   "cell_type": "code",
   "execution_count": 2,
   "metadata": {},
   "outputs": [],
   "source": [
    "device = 'cuda' if torch.cuda.is_available() else 'cpu'"
   ]
  },
  {
   "cell_type": "code",
   "execution_count": 3,
   "metadata": {},
   "outputs": [],
   "source": [
    "learning_rate = 1e-3\n",
    "batch_size = 64\n",
    "num_epochs = 20"
   ]
  },
  {
   "cell_type": "code",
   "execution_count": 4,
   "metadata": {},
   "outputs": [],
   "source": [
    "transform = transforms.Compose([\n",
    "    transforms.ToTensor(),\n",
    "    transforms.Normalize((0.5), (0.5))\n",
    "])\n",
    "\n",
    "train_dataset = datasets.MNIST(root='../datasets', train=True, transform=transform)\n",
    "val_dataset = datasets.MNIST(root='../datasets', train=False, transform=transform)\n",
    "\n",
    "train_loader = DataLoader(train_dataset, batch_size=batch_size, shuffle=True)\n",
    "val_loader = DataLoader(val_dataset, batch_size=batch_size, shuffle=True)"
   ]
  },
  {
   "cell_type": "code",
   "execution_count": 5,
   "metadata": {},
   "outputs": [],
   "source": [
    "model_config = mnist_config()\n",
    "model = build_model(ViT, model_config).to(device)"
   ]
  },
  {
   "cell_type": "code",
   "execution_count": 6,
   "metadata": {},
   "outputs": [],
   "source": [
    "optimizer = torch.optim.Adam(model.parameters(), lr=learning_rate)\n",
    "scheduler = WarmupCosineSchedule(optimizer, num_epochs//5, num_epochs)\n",
    "criterion = nn.CrossEntropyLoss()"
   ]
  },
  {
   "cell_type": "code",
   "execution_count": 7,
   "metadata": {},
   "outputs": [],
   "source": [
    "trainer = Trainer(model, {'train':train_loader, 'validation':val_loader}, criterion, optimizer, scheduler, num_epochs, (1, ), 'mnist.pth', device)"
   ]
  },
  {
   "cell_type": "code",
   "execution_count": 8,
   "metadata": {},
   "outputs": [
    {
     "name": "stderr",
     "output_type": "stream",
     "text": [
      "train Epoch: 1: 100%|██████████| 938/938 [01:39<00:00,  9.44Batch/s, loss=3.855174, top1=10.24%, top5=52.10%]\n",
      "validation Epoch: 1: 100%|██████████| 157/157 [00:05<00:00, 30.27Batch/s, loss=7.109620, top1=10.84%, top5=53.26%]\n"
     ]
    },
    {
     "name": "stdout",
     "output_type": "stream",
     "text": [
      "\n",
      "\n"
     ]
    },
    {
     "name": "stderr",
     "output_type": "stream",
     "text": [
      "train Epoch: 2: 100%|██████████| 938/938 [01:31<00:00, 10.20Batch/s, loss=0.418589, top1=24.77%, top5=72.72%]\n",
      "validation Epoch: 2: 100%|██████████| 157/157 [00:05<00:00, 29.82Batch/s, loss=0.138408, top1=31.89%, top5=86.01%]\n"
     ]
    },
    {
     "name": "stdout",
     "output_type": "stream",
     "text": [
      "\n",
      "\n"
     ]
    },
    {
     "name": "stderr",
     "output_type": "stream",
     "text": [
      "train Epoch: 3: 100%|██████████| 938/938 [01:31<00:00, 10.29Batch/s, loss=0.070869, top1=34.84%, top5=84.19%]\n",
      "validation Epoch: 3: 100%|██████████| 157/157 [00:05<00:00, 29.77Batch/s, loss=0.073229, top1=58.06%, top5=96.32%]\n"
     ]
    },
    {
     "name": "stdout",
     "output_type": "stream",
     "text": [
      "\n",
      "\n"
     ]
    },
    {
     "name": "stderr",
     "output_type": "stream",
     "text": [
      "train Epoch: 4: 100%|██████████| 938/938 [01:31<00:00, 10.25Batch/s, loss=0.044581, top1=50.86%, top5=94.09%]\n",
      "validation Epoch: 4: 100%|██████████| 157/157 [00:05<00:00, 29.71Batch/s, loss=0.067861, top1=60.14%, top5=97.10%]\n"
     ]
    },
    {
     "name": "stdout",
     "output_type": "stream",
     "text": [
      "\n",
      "\n"
     ]
    },
    {
     "name": "stderr",
     "output_type": "stream",
     "text": [
      "train Epoch: 5: 100%|██████████| 938/938 [01:31<00:00, 10.29Batch/s, loss=0.032961, top1=63.64%, top5=97.17%]\n",
      "validation Epoch: 5: 100%|██████████| 157/157 [00:05<00:00, 29.95Batch/s, loss=0.042689, top1=75.86%, top5=98.91%]\n"
     ]
    },
    {
     "name": "stdout",
     "output_type": "stream",
     "text": [
      "\n",
      "\n"
     ]
    },
    {
     "name": "stderr",
     "output_type": "stream",
     "text": [
      "train Epoch: 6: 100%|██████████| 938/938 [01:31<00:00, 10.22Batch/s, loss=0.023611, top1=74.54%, top5=98.51%]\n",
      "validation Epoch: 6: 100%|██████████| 157/157 [00:05<00:00, 29.76Batch/s, loss=0.029268, top1=83.78%, top5=99.42%]\n"
     ]
    },
    {
     "name": "stdout",
     "output_type": "stream",
     "text": [
      "\n",
      "\n"
     ]
    },
    {
     "name": "stderr",
     "output_type": "stream",
     "text": [
      "train Epoch: 7: 100%|██████████| 938/938 [01:31<00:00, 10.20Batch/s, loss=0.018757, top1=80.28%, top5=98.99%]\n",
      "validation Epoch: 7: 100%|██████████| 157/157 [00:05<00:00, 30.04Batch/s, loss=0.019869, top1=89.89%, top5=99.64%]\n"
     ]
    },
    {
     "name": "stdout",
     "output_type": "stream",
     "text": [
      "\n",
      "\n"
     ]
    },
    {
     "name": "stderr",
     "output_type": "stream",
     "text": [
      "train Epoch: 8: 100%|██████████| 938/938 [01:30<00:00, 10.33Batch/s, loss=0.015670, top1=83.81%, top5=99.27%]\n",
      "validation Epoch: 8: 100%|██████████| 157/157 [00:05<00:00, 27.44Batch/s, loss=0.021660, top1=88.92%, top5=99.50%]\n"
     ]
    },
    {
     "name": "stdout",
     "output_type": "stream",
     "text": [
      "\n",
      "\n"
     ]
    },
    {
     "name": "stderr",
     "output_type": "stream",
     "text": [
      "train Epoch: 9: 100%|██████████| 938/938 [01:31<00:00, 10.29Batch/s, loss=0.013186, top1=86.65%, top5=99.48%]\n",
      "validation Epoch: 9: 100%|██████████| 157/157 [00:05<00:00, 29.90Batch/s, loss=0.015664, top1=92.28%, top5=99.73%]\n"
     ]
    },
    {
     "name": "stdout",
     "output_type": "stream",
     "text": [
      "\n",
      "\n"
     ]
    },
    {
     "name": "stderr",
     "output_type": "stream",
     "text": [
      "train Epoch: 10: 100%|██████████| 938/938 [01:30<00:00, 10.38Batch/s, loss=0.011144, top1=88.64%, top5=99.58%]\n",
      "validation Epoch: 10: 100%|██████████| 157/157 [00:05<00:00, 30.16Batch/s, loss=0.016610, top1=91.45%, top5=99.71%]\n"
     ]
    },
    {
     "name": "stdout",
     "output_type": "stream",
     "text": [
      "\n",
      "\n"
     ]
    },
    {
     "name": "stderr",
     "output_type": "stream",
     "text": [
      "train Epoch: 11: 100%|██████████| 938/938 [01:30<00:00, 10.41Batch/s, loss=0.009795, top1=90.08%, top5=99.71%]\n",
      "validation Epoch: 11: 100%|██████████| 157/157 [00:05<00:00, 30.52Batch/s, loss=0.011803, top1=94.03%, top5=99.79%]\n"
     ]
    },
    {
     "name": "stdout",
     "output_type": "stream",
     "text": [
      "\n",
      "\n"
     ]
    },
    {
     "name": "stderr",
     "output_type": "stream",
     "text": [
      "train Epoch: 12: 100%|██████████| 938/938 [01:30<00:00, 10.35Batch/s, loss=0.008203, top1=91.63%, top5=99.75%]\n",
      "validation Epoch: 12: 100%|██████████| 157/157 [00:05<00:00, 29.88Batch/s, loss=0.011505, top1=94.46%, top5=99.84%]\n"
     ]
    },
    {
     "name": "stdout",
     "output_type": "stream",
     "text": [
      "\n",
      "\n"
     ]
    },
    {
     "name": "stderr",
     "output_type": "stream",
     "text": [
      "train Epoch: 13: 100%|██████████| 938/938 [01:30<00:00, 10.36Batch/s, loss=0.006906, top1=92.99%, top5=99.81%]\n",
      "validation Epoch: 13: 100%|██████████| 157/157 [00:05<00:00, 29.87Batch/s, loss=0.009659, top1=95.30%, top5=99.87%]\n"
     ]
    },
    {
     "name": "stdout",
     "output_type": "stream",
     "text": [
      "\n",
      "\n"
     ]
    },
    {
     "name": "stderr",
     "output_type": "stream",
     "text": [
      "train Epoch: 14: 100%|██████████| 938/938 [01:31<00:00, 10.27Batch/s, loss=0.005664, top1=94.22%, top5=99.87%]\n",
      "validation Epoch: 14: 100%|██████████| 157/157 [00:05<00:00, 30.19Batch/s, loss=0.009829, top1=95.18%, top5=99.82%]\n"
     ]
    },
    {
     "name": "stdout",
     "output_type": "stream",
     "text": [
      "\n",
      "\n"
     ]
    },
    {
     "name": "stderr",
     "output_type": "stream",
     "text": [
      "train Epoch: 15: 100%|██████████| 938/938 [01:30<00:00, 10.40Batch/s, loss=0.004863, top1=95.07%, top5=99.91%]\n",
      "validation Epoch: 15: 100%|██████████| 157/157 [00:05<00:00, 30.84Batch/s, loss=0.008379, top1=96.07%, top5=99.89%]\n"
     ]
    },
    {
     "name": "stdout",
     "output_type": "stream",
     "text": [
      "\n",
      "\n"
     ]
    },
    {
     "name": "stderr",
     "output_type": "stream",
     "text": [
      "train Epoch: 16: 100%|██████████| 938/938 [01:31<00:00, 10.20Batch/s, loss=0.004096, top1=95.76%, top5=99.92%]\n",
      "validation Epoch: 16: 100%|██████████| 157/157 [00:05<00:00, 30.37Batch/s, loss=0.007145, top1=96.65%, top5=99.93%]\n"
     ]
    },
    {
     "name": "stdout",
     "output_type": "stream",
     "text": [
      "\n",
      "\n"
     ]
    },
    {
     "name": "stderr",
     "output_type": "stream",
     "text": [
      "train Epoch: 17: 100%|██████████| 938/938 [01:37<00:00,  9.59Batch/s, loss=0.003372, top1=96.48%, top5=99.94%]\n",
      "validation Epoch: 17: 100%|██████████| 157/157 [00:05<00:00, 27.38Batch/s, loss=0.006713, top1=96.76%, top5=99.91%]\n"
     ]
    },
    {
     "name": "stdout",
     "output_type": "stream",
     "text": [
      "\n",
      "\n"
     ]
    },
    {
     "name": "stderr",
     "output_type": "stream",
     "text": [
      "train Epoch: 18: 100%|██████████| 938/938 [01:44<00:00,  8.96Batch/s, loss=0.002779, top1=97.06%, top5=99.97%]\n",
      "validation Epoch: 18: 100%|██████████| 157/157 [00:05<00:00, 28.02Batch/s, loss=0.005788, top1=97.28%, top5=99.94%]\n"
     ]
    },
    {
     "name": "stdout",
     "output_type": "stream",
     "text": [
      "\n",
      "\n"
     ]
    },
    {
     "name": "stderr",
     "output_type": "stream",
     "text": [
      "train Epoch: 19: 100%|██████████| 938/938 [01:36<00:00,  9.74Batch/s, loss=0.002415, top1=97.39%, top5=99.98%] \n",
      "validation Epoch: 19: 100%|██████████| 157/157 [00:05<00:00, 30.83Batch/s, loss=0.005331, top1=97.38%, top5=99.94%]\n"
     ]
    },
    {
     "name": "stdout",
     "output_type": "stream",
     "text": [
      "\n",
      "\n"
     ]
    },
    {
     "name": "stderr",
     "output_type": "stream",
     "text": [
      "train Epoch: 20: 100%|██████████| 938/938 [01:32<00:00, 10.15Batch/s, loss=0.002221, top1=97.66%, top5=99.99%]\n",
      "validation Epoch: 20: 100%|██████████| 157/157 [00:05<00:00, 29.86Batch/s, loss=0.005229, top1=97.47%, top5=99.94%]"
     ]
    },
    {
     "name": "stdout",
     "output_type": "stream",
     "text": [
      "\n",
      "\n"
     ]
    },
    {
     "name": "stderr",
     "output_type": "stream",
     "text": [
      "\n"
     ]
    }
   ],
   "source": [
    "trainer.train()"
   ]
  }
 ],
 "metadata": {
  "kernelspec": {
   "display_name": "Python 3.8.7 64-bit (system)",
   "language": "python",
   "name": "python3"
  },
  "language_info": {
   "codemirror_mode": {
    "name": "ipython",
    "version": 3
   },
   "file_extension": ".py",
   "mimetype": "text/x-python",
   "name": "python",
   "nbconvert_exporter": "python",
   "pygments_lexer": "ipython3",
   "version": "3.8.7"
  },
  "orig_nbformat": 4,
  "vscode": {
   "interpreter": {
    "hash": "cc3fa7092a5750d725d5d83d1a0ae5323944ac86552b2b5957defa6dbf1bd568"
   }
  }
 },
 "nbformat": 4,
 "nbformat_minor": 2
}
