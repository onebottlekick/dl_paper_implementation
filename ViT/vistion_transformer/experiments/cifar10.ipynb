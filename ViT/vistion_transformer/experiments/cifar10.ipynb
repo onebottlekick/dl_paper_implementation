{
 "cells": [
  {
   "cell_type": "code",
   "execution_count": 1,
   "metadata": {},
   "outputs": [],
   "source": [
    "from experiment_utils import *\n",
    "from model import ViT\n",
    "from configs import cifar10_config\n",
    "from torchvision.datasets import CIFAR10\n",
    "from torchvision import transforms"
   ]
  },
  {
   "cell_type": "code",
   "execution_count": 2,
   "metadata": {},
   "outputs": [],
   "source": [
    "config = cifar10_config()\n",
    "model = load_model(ViT, 'pretrained/cifar10.pth', config)"
   ]
  },
  {
   "cell_type": "code",
   "execution_count": 3,
   "metadata": {},
   "outputs": [
    {
     "name": "stdout",
     "output_type": "stream",
     "text": [
      "Files already downloaded and verified\n"
     ]
    }
   ],
   "source": [
    "dataset = CIFAR10(root='../datasets', train=False, download=True, transform=transforms.Compose([transforms.ToTensor(), transforms.Normalize((0.5, 0.5, 0.5), (0.5, 0.5, 0.5))]))\n",
    "\n",
    "data = dataset.data\n",
    "label = dataset.targets"
   ]
  },
  {
   "cell_type": "code",
   "execution_count": 4,
   "metadata": {},
   "outputs": [
    {
     "name": "stdout",
     "output_type": "stream",
     "text": [
      "======================================================================================================\n",
      "                                                   Kernel Shape  \\\n",
      "Layer                                                             \n",
      "0_to_patch                                                    -   \n",
      "1_linear_projection                                    [48, 64]   \n",
      "2_transformer_encoder.blocks.0.LayerNorm_layer_...         [64]   \n",
      "3_transformer_encoder.blocks.0.msa.Linear_fc_q         [64, 64]   \n",
      "4_transformer_encoder.blocks.0.msa.Linear_fc_k         [64, 64]   \n",
      "5_transformer_encoder.blocks.0.msa.Linear_fc_v         [64, 64]   \n",
      "6_transformer_encoder.blocks.0.msa.Dropout_dropout            -   \n",
      "7_transformer_encoder.blocks.0.msa.Linear_fc_o         [64, 64]   \n",
      "8_transformer_encoder.blocks.0.Dropout_dropout                -   \n",
      "9_transformer_encoder.blocks.0.LayerNorm_layer_...         [64]   \n",
      "10_transformer_encoder.blocks.0.mlp.Linear_fc1       [64, 1024]   \n",
      "11_transformer_encoder.blocks.0.mlp.GELU_activa...            -   \n",
      "12_transformer_encoder.blocks.0.mlp.Dropout_dro...            -   \n",
      "13_transformer_encoder.blocks.0.mlp.Linear_fc2       [1024, 64]   \n",
      "14_transformer_encoder.blocks.0.mlp.Dropout_dro...            -   \n",
      "15_transformer_encoder.blocks.0.Dropout_dropout               -   \n",
      "16_transformer_encoder.blocks.1.LayerNorm_layer...         [64]   \n",
      "17_transformer_encoder.blocks.1.msa.Linear_fc_q        [64, 64]   \n",
      "18_transformer_encoder.blocks.1.msa.Linear_fc_k        [64, 64]   \n",
      "19_transformer_encoder.blocks.1.msa.Linear_fc_v        [64, 64]   \n",
      "20_transformer_encoder.blocks.1.msa.Dropout_dro...            -   \n",
      "21_transformer_encoder.blocks.1.msa.Linear_fc_o        [64, 64]   \n",
      "22_transformer_encoder.blocks.1.Dropout_dropout               -   \n",
      "23_transformer_encoder.blocks.1.LayerNorm_layer...         [64]   \n",
      "24_transformer_encoder.blocks.1.mlp.Linear_fc1       [64, 1024]   \n",
      "25_transformer_encoder.blocks.1.mlp.GELU_activa...            -   \n",
      "26_transformer_encoder.blocks.1.mlp.Dropout_dro...            -   \n",
      "27_transformer_encoder.blocks.1.mlp.Linear_fc2       [1024, 64]   \n",
      "28_transformer_encoder.blocks.1.mlp.Dropout_dro...            -   \n",
      "29_transformer_encoder.blocks.1.Dropout_dropout               -   \n",
      "30_transformer_encoder.blocks.2.LayerNorm_layer...         [64]   \n",
      "31_transformer_encoder.blocks.2.msa.Linear_fc_q        [64, 64]   \n",
      "32_transformer_encoder.blocks.2.msa.Linear_fc_k        [64, 64]   \n",
      "33_transformer_encoder.blocks.2.msa.Linear_fc_v        [64, 64]   \n",
      "34_transformer_encoder.blocks.2.msa.Dropout_dro...            -   \n",
      "35_transformer_encoder.blocks.2.msa.Linear_fc_o        [64, 64]   \n",
      "36_transformer_encoder.blocks.2.Dropout_dropout               -   \n",
      "37_transformer_encoder.blocks.2.LayerNorm_layer...         [64]   \n",
      "38_transformer_encoder.blocks.2.mlp.Linear_fc1       [64, 1024]   \n",
      "39_transformer_encoder.blocks.2.mlp.GELU_activa...            -   \n",
      "40_transformer_encoder.blocks.2.mlp.Dropout_dro...            -   \n",
      "41_transformer_encoder.blocks.2.mlp.Linear_fc2       [1024, 64]   \n",
      "42_transformer_encoder.blocks.2.mlp.Dropout_dro...            -   \n",
      "43_transformer_encoder.blocks.2.Dropout_dropout               -   \n",
      "44_transformer_encoder.blocks.3.LayerNorm_layer...         [64]   \n",
      "45_transformer_encoder.blocks.3.msa.Linear_fc_q        [64, 64]   \n",
      "46_transformer_encoder.blocks.3.msa.Linear_fc_k        [64, 64]   \n",
      "47_transformer_encoder.blocks.3.msa.Linear_fc_v        [64, 64]   \n",
      "48_transformer_encoder.blocks.3.msa.Dropout_dro...            -   \n",
      "49_transformer_encoder.blocks.3.msa.Linear_fc_o        [64, 64]   \n",
      "50_transformer_encoder.blocks.3.Dropout_dropout               -   \n",
      "51_transformer_encoder.blocks.3.LayerNorm_layer...         [64]   \n",
      "52_transformer_encoder.blocks.3.mlp.Linear_fc1       [64, 1024]   \n",
      "53_transformer_encoder.blocks.3.mlp.GELU_activa...            -   \n",
      "54_transformer_encoder.blocks.3.mlp.Dropout_dro...            -   \n",
      "55_transformer_encoder.blocks.3.mlp.Linear_fc2       [1024, 64]   \n",
      "56_transformer_encoder.blocks.3.mlp.Dropout_dro...            -   \n",
      "57_transformer_encoder.blocks.3.Dropout_dropout               -   \n",
      "58_transformer_encoder.blocks.4.LayerNorm_layer...         [64]   \n",
      "59_transformer_encoder.blocks.4.msa.Linear_fc_q        [64, 64]   \n",
      "60_transformer_encoder.blocks.4.msa.Linear_fc_k        [64, 64]   \n",
      "61_transformer_encoder.blocks.4.msa.Linear_fc_v        [64, 64]   \n",
      "62_transformer_encoder.blocks.4.msa.Dropout_dro...            -   \n",
      "63_transformer_encoder.blocks.4.msa.Linear_fc_o        [64, 64]   \n",
      "64_transformer_encoder.blocks.4.Dropout_dropout               -   \n",
      "65_transformer_encoder.blocks.4.LayerNorm_layer...         [64]   \n",
      "66_transformer_encoder.blocks.4.mlp.Linear_fc1       [64, 1024]   \n",
      "67_transformer_encoder.blocks.4.mlp.GELU_activa...            -   \n",
      "68_transformer_encoder.blocks.4.mlp.Dropout_dro...            -   \n",
      "69_transformer_encoder.blocks.4.mlp.Linear_fc2       [1024, 64]   \n",
      "70_transformer_encoder.blocks.4.mlp.Dropout_dro...            -   \n",
      "71_transformer_encoder.blocks.4.Dropout_dropout               -   \n",
      "72_transformer_encoder.blocks.5.LayerNorm_layer...         [64]   \n",
      "73_transformer_encoder.blocks.5.msa.Linear_fc_q        [64, 64]   \n",
      "74_transformer_encoder.blocks.5.msa.Linear_fc_k        [64, 64]   \n",
      "75_transformer_encoder.blocks.5.msa.Linear_fc_v        [64, 64]   \n",
      "76_transformer_encoder.blocks.5.msa.Dropout_dro...            -   \n",
      "77_transformer_encoder.blocks.5.msa.Linear_fc_o        [64, 64]   \n",
      "78_transformer_encoder.blocks.5.Dropout_dropout               -   \n",
      "79_transformer_encoder.blocks.5.LayerNorm_layer...         [64]   \n",
      "80_transformer_encoder.blocks.5.mlp.Linear_fc1       [64, 1024]   \n",
      "81_transformer_encoder.blocks.5.mlp.GELU_activa...            -   \n",
      "82_transformer_encoder.blocks.5.mlp.Dropout_dro...            -   \n",
      "83_transformer_encoder.blocks.5.mlp.Linear_fc2       [1024, 64]   \n",
      "84_transformer_encoder.blocks.5.mlp.Dropout_dro...            -   \n",
      "85_transformer_encoder.blocks.5.Dropout_dropout               -   \n",
      "86_mlp_head                                            [64, 10]   \n",
      "\n",
      "                                                      Output Shape  Params  \\\n",
      "Layer                                                                        \n",
      "0_to_patch                                             [1, 48, 64]       -   \n",
      "1_linear_projection                                    [1, 64, 64]  3.136k   \n",
      "2_transformer_encoder.blocks.0.LayerNorm_layer_...     [1, 65, 64]   128.0   \n",
      "3_transformer_encoder.blocks.0.msa.Linear_fc_q         [1, 65, 64]   4.16k   \n",
      "4_transformer_encoder.blocks.0.msa.Linear_fc_k         [1, 65, 64]   4.16k   \n",
      "5_transformer_encoder.blocks.0.msa.Linear_fc_v         [1, 65, 64]   4.16k   \n",
      "6_transformer_encoder.blocks.0.msa.Dropout_dropout  [1, 4, 65, 65]       -   \n",
      "7_transformer_encoder.blocks.0.msa.Linear_fc_o         [1, 65, 64]   4.16k   \n",
      "8_transformer_encoder.blocks.0.Dropout_dropout         [1, 65, 64]       -   \n",
      "9_transformer_encoder.blocks.0.LayerNorm_layer_...     [1, 65, 64]   128.0   \n",
      "10_transformer_encoder.blocks.0.mlp.Linear_fc1       [1, 65, 1024]  66.56k   \n",
      "11_transformer_encoder.blocks.0.mlp.GELU_activa...   [1, 65, 1024]       -   \n",
      "12_transformer_encoder.blocks.0.mlp.Dropout_dro...   [1, 65, 1024]       -   \n",
      "13_transformer_encoder.blocks.0.mlp.Linear_fc2         [1, 65, 64]   65.6k   \n",
      "14_transformer_encoder.blocks.0.mlp.Dropout_dro...     [1, 65, 64]       -   \n",
      "15_transformer_encoder.blocks.0.Dropout_dropout        [1, 65, 64]       -   \n",
      "16_transformer_encoder.blocks.1.LayerNorm_layer...     [1, 65, 64]   128.0   \n",
      "17_transformer_encoder.blocks.1.msa.Linear_fc_q        [1, 65, 64]   4.16k   \n",
      "18_transformer_encoder.blocks.1.msa.Linear_fc_k        [1, 65, 64]   4.16k   \n",
      "19_transformer_encoder.blocks.1.msa.Linear_fc_v        [1, 65, 64]   4.16k   \n",
      "20_transformer_encoder.blocks.1.msa.Dropout_dro...  [1, 4, 65, 65]       -   \n",
      "21_transformer_encoder.blocks.1.msa.Linear_fc_o        [1, 65, 64]   4.16k   \n",
      "22_transformer_encoder.blocks.1.Dropout_dropout        [1, 65, 64]       -   \n",
      "23_transformer_encoder.blocks.1.LayerNorm_layer...     [1, 65, 64]   128.0   \n",
      "24_transformer_encoder.blocks.1.mlp.Linear_fc1       [1, 65, 1024]  66.56k   \n",
      "25_transformer_encoder.blocks.1.mlp.GELU_activa...   [1, 65, 1024]       -   \n",
      "26_transformer_encoder.blocks.1.mlp.Dropout_dro...   [1, 65, 1024]       -   \n",
      "27_transformer_encoder.blocks.1.mlp.Linear_fc2         [1, 65, 64]   65.6k   \n",
      "28_transformer_encoder.blocks.1.mlp.Dropout_dro...     [1, 65, 64]       -   \n",
      "29_transformer_encoder.blocks.1.Dropout_dropout        [1, 65, 64]       -   \n",
      "30_transformer_encoder.blocks.2.LayerNorm_layer...     [1, 65, 64]   128.0   \n",
      "31_transformer_encoder.blocks.2.msa.Linear_fc_q        [1, 65, 64]   4.16k   \n",
      "32_transformer_encoder.blocks.2.msa.Linear_fc_k        [1, 65, 64]   4.16k   \n",
      "33_transformer_encoder.blocks.2.msa.Linear_fc_v        [1, 65, 64]   4.16k   \n",
      "34_transformer_encoder.blocks.2.msa.Dropout_dro...  [1, 4, 65, 65]       -   \n",
      "35_transformer_encoder.blocks.2.msa.Linear_fc_o        [1, 65, 64]   4.16k   \n",
      "36_transformer_encoder.blocks.2.Dropout_dropout        [1, 65, 64]       -   \n",
      "37_transformer_encoder.blocks.2.LayerNorm_layer...     [1, 65, 64]   128.0   \n",
      "38_transformer_encoder.blocks.2.mlp.Linear_fc1       [1, 65, 1024]  66.56k   \n",
      "39_transformer_encoder.blocks.2.mlp.GELU_activa...   [1, 65, 1024]       -   \n",
      "40_transformer_encoder.blocks.2.mlp.Dropout_dro...   [1, 65, 1024]       -   \n",
      "41_transformer_encoder.blocks.2.mlp.Linear_fc2         [1, 65, 64]   65.6k   \n",
      "42_transformer_encoder.blocks.2.mlp.Dropout_dro...     [1, 65, 64]       -   \n",
      "43_transformer_encoder.blocks.2.Dropout_dropout        [1, 65, 64]       -   \n",
      "44_transformer_encoder.blocks.3.LayerNorm_layer...     [1, 65, 64]   128.0   \n",
      "45_transformer_encoder.blocks.3.msa.Linear_fc_q        [1, 65, 64]   4.16k   \n",
      "46_transformer_encoder.blocks.3.msa.Linear_fc_k        [1, 65, 64]   4.16k   \n",
      "47_transformer_encoder.blocks.3.msa.Linear_fc_v        [1, 65, 64]   4.16k   \n",
      "48_transformer_encoder.blocks.3.msa.Dropout_dro...  [1, 4, 65, 65]       -   \n",
      "49_transformer_encoder.blocks.3.msa.Linear_fc_o        [1, 65, 64]   4.16k   \n",
      "50_transformer_encoder.blocks.3.Dropout_dropout        [1, 65, 64]       -   \n",
      "51_transformer_encoder.blocks.3.LayerNorm_layer...     [1, 65, 64]   128.0   \n",
      "52_transformer_encoder.blocks.3.mlp.Linear_fc1       [1, 65, 1024]  66.56k   \n",
      "53_transformer_encoder.blocks.3.mlp.GELU_activa...   [1, 65, 1024]       -   \n",
      "54_transformer_encoder.blocks.3.mlp.Dropout_dro...   [1, 65, 1024]       -   \n",
      "55_transformer_encoder.blocks.3.mlp.Linear_fc2         [1, 65, 64]   65.6k   \n",
      "56_transformer_encoder.blocks.3.mlp.Dropout_dro...     [1, 65, 64]       -   \n",
      "57_transformer_encoder.blocks.3.Dropout_dropout        [1, 65, 64]       -   \n",
      "58_transformer_encoder.blocks.4.LayerNorm_layer...     [1, 65, 64]   128.0   \n",
      "59_transformer_encoder.blocks.4.msa.Linear_fc_q        [1, 65, 64]   4.16k   \n",
      "60_transformer_encoder.blocks.4.msa.Linear_fc_k        [1, 65, 64]   4.16k   \n",
      "61_transformer_encoder.blocks.4.msa.Linear_fc_v        [1, 65, 64]   4.16k   \n",
      "62_transformer_encoder.blocks.4.msa.Dropout_dro...  [1, 4, 65, 65]       -   \n",
      "63_transformer_encoder.blocks.4.msa.Linear_fc_o        [1, 65, 64]   4.16k   \n",
      "64_transformer_encoder.blocks.4.Dropout_dropout        [1, 65, 64]       -   \n",
      "65_transformer_encoder.blocks.4.LayerNorm_layer...     [1, 65, 64]   128.0   \n",
      "66_transformer_encoder.blocks.4.mlp.Linear_fc1       [1, 65, 1024]  66.56k   \n",
      "67_transformer_encoder.blocks.4.mlp.GELU_activa...   [1, 65, 1024]       -   \n",
      "68_transformer_encoder.blocks.4.mlp.Dropout_dro...   [1, 65, 1024]       -   \n",
      "69_transformer_encoder.blocks.4.mlp.Linear_fc2         [1, 65, 64]   65.6k   \n",
      "70_transformer_encoder.blocks.4.mlp.Dropout_dro...     [1, 65, 64]       -   \n",
      "71_transformer_encoder.blocks.4.Dropout_dropout        [1, 65, 64]       -   \n",
      "72_transformer_encoder.blocks.5.LayerNorm_layer...     [1, 65, 64]   128.0   \n",
      "73_transformer_encoder.blocks.5.msa.Linear_fc_q        [1, 65, 64]   4.16k   \n",
      "74_transformer_encoder.blocks.5.msa.Linear_fc_k        [1, 65, 64]   4.16k   \n",
      "75_transformer_encoder.blocks.5.msa.Linear_fc_v        [1, 65, 64]   4.16k   \n",
      "76_transformer_encoder.blocks.5.msa.Dropout_dro...  [1, 4, 65, 65]       -   \n",
      "77_transformer_encoder.blocks.5.msa.Linear_fc_o        [1, 65, 64]   4.16k   \n",
      "78_transformer_encoder.blocks.5.Dropout_dropout        [1, 65, 64]       -   \n",
      "79_transformer_encoder.blocks.5.LayerNorm_layer...     [1, 65, 64]   128.0   \n",
      "80_transformer_encoder.blocks.5.mlp.Linear_fc1       [1, 65, 1024]  66.56k   \n",
      "81_transformer_encoder.blocks.5.mlp.GELU_activa...   [1, 65, 1024]       -   \n",
      "82_transformer_encoder.blocks.5.mlp.Dropout_dro...   [1, 65, 1024]       -   \n",
      "83_transformer_encoder.blocks.5.mlp.Linear_fc2         [1, 65, 64]   65.6k   \n",
      "84_transformer_encoder.blocks.5.mlp.Dropout_dro...     [1, 65, 64]       -   \n",
      "85_transformer_encoder.blocks.5.Dropout_dropout        [1, 65, 64]       -   \n",
      "86_mlp_head                                                [1, 10]   650.0   \n",
      "\n",
      "                                                   Mult-Adds  \n",
      "Layer                                                         \n",
      "0_to_patch                                                 -  \n",
      "1_linear_projection                                   3.072k  \n",
      "2_transformer_encoder.blocks.0.LayerNorm_layer_...      64.0  \n",
      "3_transformer_encoder.blocks.0.msa.Linear_fc_q        4.096k  \n",
      "4_transformer_encoder.blocks.0.msa.Linear_fc_k        4.096k  \n",
      "5_transformer_encoder.blocks.0.msa.Linear_fc_v        4.096k  \n",
      "6_transformer_encoder.blocks.0.msa.Dropout_dropout         -  \n",
      "7_transformer_encoder.blocks.0.msa.Linear_fc_o        4.096k  \n",
      "8_transformer_encoder.blocks.0.Dropout_dropout             -  \n",
      "9_transformer_encoder.blocks.0.LayerNorm_layer_...      64.0  \n",
      "10_transformer_encoder.blocks.0.mlp.Linear_fc1       65.536k  \n",
      "11_transformer_encoder.blocks.0.mlp.GELU_activa...         -  \n",
      "12_transformer_encoder.blocks.0.mlp.Dropout_dro...         -  \n",
      "13_transformer_encoder.blocks.0.mlp.Linear_fc2       65.536k  \n",
      "14_transformer_encoder.blocks.0.mlp.Dropout_dro...         -  \n",
      "15_transformer_encoder.blocks.0.Dropout_dropout            -  \n",
      "16_transformer_encoder.blocks.1.LayerNorm_layer...      64.0  \n",
      "17_transformer_encoder.blocks.1.msa.Linear_fc_q       4.096k  \n",
      "18_transformer_encoder.blocks.1.msa.Linear_fc_k       4.096k  \n",
      "19_transformer_encoder.blocks.1.msa.Linear_fc_v       4.096k  \n",
      "20_transformer_encoder.blocks.1.msa.Dropout_dro...         -  \n",
      "21_transformer_encoder.blocks.1.msa.Linear_fc_o       4.096k  \n",
      "22_transformer_encoder.blocks.1.Dropout_dropout            -  \n",
      "23_transformer_encoder.blocks.1.LayerNorm_layer...      64.0  \n",
      "24_transformer_encoder.blocks.1.mlp.Linear_fc1       65.536k  \n",
      "25_transformer_encoder.blocks.1.mlp.GELU_activa...         -  \n",
      "26_transformer_encoder.blocks.1.mlp.Dropout_dro...         -  \n",
      "27_transformer_encoder.blocks.1.mlp.Linear_fc2       65.536k  \n",
      "28_transformer_encoder.blocks.1.mlp.Dropout_dro...         -  \n",
      "29_transformer_encoder.blocks.1.Dropout_dropout            -  \n",
      "30_transformer_encoder.blocks.2.LayerNorm_layer...      64.0  \n",
      "31_transformer_encoder.blocks.2.msa.Linear_fc_q       4.096k  \n",
      "32_transformer_encoder.blocks.2.msa.Linear_fc_k       4.096k  \n",
      "33_transformer_encoder.blocks.2.msa.Linear_fc_v       4.096k  \n",
      "34_transformer_encoder.blocks.2.msa.Dropout_dro...         -  \n",
      "35_transformer_encoder.blocks.2.msa.Linear_fc_o       4.096k  \n",
      "36_transformer_encoder.blocks.2.Dropout_dropout            -  \n",
      "37_transformer_encoder.blocks.2.LayerNorm_layer...      64.0  \n",
      "38_transformer_encoder.blocks.2.mlp.Linear_fc1       65.536k  \n",
      "39_transformer_encoder.blocks.2.mlp.GELU_activa...         -  \n",
      "40_transformer_encoder.blocks.2.mlp.Dropout_dro...         -  \n",
      "41_transformer_encoder.blocks.2.mlp.Linear_fc2       65.536k  \n",
      "42_transformer_encoder.blocks.2.mlp.Dropout_dro...         -  \n",
      "43_transformer_encoder.blocks.2.Dropout_dropout            -  \n",
      "44_transformer_encoder.blocks.3.LayerNorm_layer...      64.0  \n",
      "45_transformer_encoder.blocks.3.msa.Linear_fc_q       4.096k  \n",
      "46_transformer_encoder.blocks.3.msa.Linear_fc_k       4.096k  \n",
      "47_transformer_encoder.blocks.3.msa.Linear_fc_v       4.096k  \n",
      "48_transformer_encoder.blocks.3.msa.Dropout_dro...         -  \n",
      "49_transformer_encoder.blocks.3.msa.Linear_fc_o       4.096k  \n",
      "50_transformer_encoder.blocks.3.Dropout_dropout            -  \n",
      "51_transformer_encoder.blocks.3.LayerNorm_layer...      64.0  \n",
      "52_transformer_encoder.blocks.3.mlp.Linear_fc1       65.536k  \n",
      "53_transformer_encoder.blocks.3.mlp.GELU_activa...         -  \n",
      "54_transformer_encoder.blocks.3.mlp.Dropout_dro...         -  \n",
      "55_transformer_encoder.blocks.3.mlp.Linear_fc2       65.536k  \n",
      "56_transformer_encoder.blocks.3.mlp.Dropout_dro...         -  \n",
      "57_transformer_encoder.blocks.3.Dropout_dropout            -  \n",
      "58_transformer_encoder.blocks.4.LayerNorm_layer...      64.0  \n",
      "59_transformer_encoder.blocks.4.msa.Linear_fc_q       4.096k  \n",
      "60_transformer_encoder.blocks.4.msa.Linear_fc_k       4.096k  \n",
      "61_transformer_encoder.blocks.4.msa.Linear_fc_v       4.096k  \n",
      "62_transformer_encoder.blocks.4.msa.Dropout_dro...         -  \n",
      "63_transformer_encoder.blocks.4.msa.Linear_fc_o       4.096k  \n",
      "64_transformer_encoder.blocks.4.Dropout_dropout            -  \n",
      "65_transformer_encoder.blocks.4.LayerNorm_layer...      64.0  \n",
      "66_transformer_encoder.blocks.4.mlp.Linear_fc1       65.536k  \n",
      "67_transformer_encoder.blocks.4.mlp.GELU_activa...         -  \n",
      "68_transformer_encoder.blocks.4.mlp.Dropout_dro...         -  \n",
      "69_transformer_encoder.blocks.4.mlp.Linear_fc2       65.536k  \n",
      "70_transformer_encoder.blocks.4.mlp.Dropout_dro...         -  \n",
      "71_transformer_encoder.blocks.4.Dropout_dropout            -  \n",
      "72_transformer_encoder.blocks.5.LayerNorm_layer...      64.0  \n",
      "73_transformer_encoder.blocks.5.msa.Linear_fc_q       4.096k  \n",
      "74_transformer_encoder.blocks.5.msa.Linear_fc_k       4.096k  \n",
      "75_transformer_encoder.blocks.5.msa.Linear_fc_v       4.096k  \n",
      "76_transformer_encoder.blocks.5.msa.Dropout_dro...         -  \n",
      "77_transformer_encoder.blocks.5.msa.Linear_fc_o       4.096k  \n",
      "78_transformer_encoder.blocks.5.Dropout_dropout            -  \n",
      "79_transformer_encoder.blocks.5.LayerNorm_layer...      64.0  \n",
      "80_transformer_encoder.blocks.5.mlp.Linear_fc1       65.536k  \n",
      "81_transformer_encoder.blocks.5.mlp.GELU_activa...         -  \n",
      "82_transformer_encoder.blocks.5.mlp.Dropout_dro...         -  \n",
      "83_transformer_encoder.blocks.5.mlp.Linear_fc2       65.536k  \n",
      "84_transformer_encoder.blocks.5.mlp.Dropout_dro...         -  \n",
      "85_transformer_encoder.blocks.5.Dropout_dropout            -  \n",
      "86_mlp_head                                            640.0  \n",
      "------------------------------------------------------------------------------------------------------\n",
      "                        Totals\n",
      "Total params          898.122k\n",
      "Trainable params      898.122k\n",
      "Non-trainable params       0.0\n",
      "Mult-Adds             889.216k\n",
      "======================================================================================================\n"
     ]
    }
   ],
   "source": [
    "model_summary(model, 3, 32)"
   ]
  },
  {
   "cell_type": "code",
   "execution_count": 5,
   "metadata": {},
   "outputs": [
    {
     "data": {
      "image/png": "[encoded data removed]",
      "text/plain": [
       "<Figure size 864x864 with 3 Axes>"
      ]
     },
     "metadata": {
      "needs_background": "light"
     },
     "output_type": "display_data"
    }
   ],
   "source": [
    "import random\n",
    "\n",
    "plot_attention_map(data[random.randint(0, 10000)], model, 28, 'cuda')"
   ]
  },
  {
   "cell_type": "code",
   "execution_count": 6,
   "metadata": {},
   "outputs": [
    {
     "data": {
      "text/plain": [
       "(32, 32, 3)"
      ]
     },
     "execution_count": 6,
     "metadata": {},
     "output_type": "execute_result"
    }
   ],
   "source": [
    "data[0].shape"
   ]
  },
  {
   "cell_type": "code",
   "execution_count": 7,
   "metadata": {},
   "outputs": [
    {
     "data": {
      "image/png": "[encoded data removed]",
      "text/plain": [
       "<Figure size 864x720 with 50 Axes>"
      ]
     },
     "metadata": {
      "needs_background": "light"
     },
     "output_type": "display_data"
    }
   ],
   "source": [
    "pos_embeddings = model.pos_embedding.squeeze()[1:, :]\n",
    "plot_pos_emb_similarity(pos_embeddings)"
   ]
  },
  {
   "cell_type": "code",
   "execution_count": 8,
   "metadata": {},
   "outputs": [
    {
     "data": {
      "image/png": "[encoded data removed]",
      "text/plain": [
       "<Figure size 432x288 with 28 Axes>"
      ]
     },
     "metadata": {
      "needs_background": "light"
     },
     "output_type": "display_data"
    }
   ],
   "source": [
    "import logging\n",
    "logger = logging.getLogger()\n",
    "logger.setLevel(100)\n",
    "\n",
    "embed_filters = model.linear_projection.weight\n",
    "plot_rgb_filters(embed_filters, 3, 4, 4)"
   ]
  },
  {
   "cell_type": "code",
   "execution_count": null,
   "metadata": {},
   "outputs": [],
   "source": []
  }
 ],
 "metadata": {
  "kernelspec": {
   "display_name": "Python 3.8.7 64-bit (system)",
   "language": "python",
   "name": "python3"
  },
  "language_info": {
   "codemirror_mode": {
    "name": "ipython",
    "version": 3
   },
   "file_extension": ".py",
   "mimetype": "text/x-python",
   "name": "python",
   "nbconvert_exporter": "python",
   "pygments_lexer": "ipython3",
   "version": "3.8.7"
  },
  "orig_nbformat": 4,
  "vscode": {
   "interpreter": {
    "hash": "a0503cd272f4e60dfbd7907e20bb095a1c0b2d6fab5f23904edfa33d092ec8bd"
   }
  }
 },
 "nbformat": 4,
 "nbformat_minor": 2
}
