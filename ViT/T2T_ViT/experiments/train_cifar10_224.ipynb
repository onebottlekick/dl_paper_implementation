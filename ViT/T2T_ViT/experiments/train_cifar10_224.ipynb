{
 "cells": [
  {
   "cell_type": "code",
   "execution_count": 1,
   "metadata": {},
   "outputs": [],
   "source": [
    "import sys\n",
    "sys.path.append('../')\n",
    "\n",
    "import torch\n",
    "import torch.nn as nn\n",
    "from torch.utils.data import DataLoader\n",
    "from torchvision import datasets, transforms\n",
    "\n",
    "from configs import base_config\n",
    "from model import T2T_ViT\n",
    "from utils import Trainer, WarmupCosineSchedule, WarmupLinearSchedule, build_model"
   ]
  },
  {
   "cell_type": "code",
   "execution_count": 2,
   "metadata": {},
   "outputs": [],
   "source": [
    "device = 'cuda' if torch.cuda.is_available() else 'cpu'"
   ]
  },
  {
   "cell_type": "code",
   "execution_count": 3,
   "metadata": {},
   "outputs": [],
   "source": [
    "learning_rate = 1e-3\n",
    "batch_size = 16\n",
    "num_epochs = 20"
   ]
  },
  {
   "cell_type": "code",
   "execution_count": 4,
   "metadata": {},
   "outputs": [],
   "source": [
    "transform = transforms.Compose([\n",
    "    transforms.Resize((224, 224)),\n",
    "    transforms.ToTensor(),\n",
    "    transforms.Normalize((0.5, 0.5, 0.5), (0.5, 0.5, 0.5))\n",
    "])\n",
    "\n",
    "train_dataset = datasets.CIFAR10(root='../datasets', train=True, transform=transform)\n",
    "val_dataset = datasets.CIFAR10(root='../datasets', train=False, transform=transform)\n",
    "\n",
    "train_loader = DataLoader(train_dataset, batch_size=batch_size, shuffle=True)\n",
    "val_loader = DataLoader(val_dataset, batch_size=batch_size, shuffle=True)"
   ]
  },
  {
   "cell_type": "code",
   "execution_count": 5,
   "metadata": {},
   "outputs": [],
   "source": [
    "model_config = base_config()\n",
    "model_config.update({'num_classes': 10})\n",
    "model = build_model(T2T_ViT, model_config).to(device)"
   ]
  },
  {
   "cell_type": "code",
   "execution_count": 6,
   "metadata": {},
   "outputs": [],
   "source": [
    "optimizer = torch.optim.Adam(model.parameters(), lr=learning_rate)\n",
    "scheduler = WarmupCosineSchedule(optimizer, num_epochs//5, num_epochs)\n",
    "criterion = nn.CrossEntropyLoss()"
   ]
  },
  {
   "cell_type": "code",
   "execution_count": 7,
   "metadata": {},
   "outputs": [],
   "source": [
    "trainer = Trainer(model, {'train':train_loader, 'validation':val_loader}, criterion, optimizer, scheduler, num_epochs, (1, ), 'pretrained/cifar10_224.pth', device)"
   ]
  },
  {
   "cell_type": "code",
   "execution_count": 8,
   "metadata": {},
   "outputs": [
    {
     "name": "stderr",
     "output_type": "stream",
     "text": [
      "train Epoch: 1: 100%|██████████| 3125/3125 [10:02<00:00,  5.19Batch/s, loss=2.557824, top1=9.36%, top5=48.94%]\n",
      "validation Epoch: 1: 100%|██████████| 625/625 [00:42<00:00, 14.71Batch/s, loss=2.783238, top1=8.11%, top5=48.12%]\n"
     ]
    },
    {
     "name": "stdout",
     "output_type": "stream",
     "text": [
      "\n",
      "\n"
     ]
    },
    {
     "name": "stderr",
     "output_type": "stream",
     "text": [
      "train Epoch: 2: 100%|██████████| 3125/3125 [10:01<00:00,  5.19Batch/s, loss=2.292878, top1=20.64%, top5=69.61%]\n",
      "validation Epoch: 2: 100%|██████████| 625/625 [00:41<00:00, 14.95Batch/s, loss=0.129469, top1=29.95%, top5=78.50%]\n"
     ]
    },
    {
     "name": "stdout",
     "output_type": "stream",
     "text": [
      "\n",
      "\n"
     ]
    },
    {
     "name": "stderr",
     "output_type": "stream",
     "text": [
      "train Epoch: 3: 100%|██████████| 3125/3125 [09:57<00:00,  5.23Batch/s, loss=0.138167, top1=24.90%, top5=77.29%]\n",
      "validation Epoch: 3: 100%|██████████| 625/625 [00:43<00:00, 14.49Batch/s, loss=0.123360, top1=27.36%, top5=83.54%]\n"
     ]
    },
    {
     "name": "stdout",
     "output_type": "stream",
     "text": [
      "\n",
      "\n"
     ]
    },
    {
     "name": "stderr",
     "output_type": "stream",
     "text": [
      "train Epoch: 4: 100%|██████████| 3125/3125 [09:54<00:00,  5.25Batch/s, loss=243.161665, top1=13.94%, top5=58.18%]\n",
      "validation Epoch: 4: 100%|██████████| 625/625 [00:41<00:00, 14.97Batch/s, loss=0.956823, top1=14.97%, top5=57.78%]\n"
     ]
    },
    {
     "name": "stdout",
     "output_type": "stream",
     "text": [
      "\n",
      "\n"
     ]
    },
    {
     "name": "stderr",
     "output_type": "stream",
     "text": [
      "train Epoch: 5: 100%|██████████| 3125/3125 [09:51<00:00,  5.28Batch/s, loss=0.683481, top1=15.45%, top5=59.70%]\n",
      "validation Epoch: 5: 100%|██████████| 625/625 [00:40<00:00, 15.28Batch/s, loss=0.246628, top1=14.93%, top5=61.63%]\n"
     ]
    },
    {
     "name": "stdout",
     "output_type": "stream",
     "text": [
      "\n",
      "\n"
     ]
    },
    {
     "name": "stderr",
     "output_type": "stream",
     "text": [
      "train Epoch: 6: 100%|██████████| 3125/3125 [09:49<00:00,  5.30Batch/s, loss=170.570733, top1=19.10%, top5=66.77%]\n",
      "validation Epoch: 6: 100%|██████████| 625/625 [00:41<00:00, 15.03Batch/s, loss=1.373369, top1=22.86%, top5=69.94%]\n"
     ]
    },
    {
     "name": "stdout",
     "output_type": "stream",
     "text": [
      "\n",
      "\n"
     ]
    },
    {
     "name": "stderr",
     "output_type": "stream",
     "text": [
      "train Epoch: 7: 100%|██████████| 3125/3125 [09:53<00:00,  5.26Batch/s, loss=0.856761, top1=20.94%, top5=70.43%]\n",
      "validation Epoch: 7: 100%|██████████| 625/625 [00:41<00:00, 15.23Batch/s, loss=0.292182, top1=22.26%, top5=71.69%]\n"
     ]
    },
    {
     "name": "stdout",
     "output_type": "stream",
     "text": [
      "\n",
      "\n"
     ]
    },
    {
     "name": "stderr",
     "output_type": "stream",
     "text": [
      "train Epoch: 8: 100%|██████████| 3125/3125 [09:54<00:00,  5.25Batch/s, loss=0.277133, top1=20.38%, top5=70.10%]\n",
      "validation Epoch: 8: 100%|██████████| 625/625 [00:42<00:00, 14.67Batch/s, loss=0.224168, top1=21.11%, top5=66.05%]\n"
     ]
    },
    {
     "name": "stdout",
     "output_type": "stream",
     "text": [
      "\n",
      "\n"
     ]
    },
    {
     "name": "stderr",
     "output_type": "stream",
     "text": [
      "train Epoch: 9: 100%|██████████| 3125/3125 [09:51<00:00,  5.29Batch/s, loss=74.257877, top1=18.91%, top5=68.12%] \n",
      "validation Epoch: 9: 100%|██████████| 625/625 [00:40<00:00, 15.25Batch/s, loss=1.359918, top1=21.10%, top5=68.34%]\n"
     ]
    },
    {
     "name": "stdout",
     "output_type": "stream",
     "text": [
      "\n",
      "\n"
     ]
    },
    {
     "name": "stderr",
     "output_type": "stream",
     "text": [
      "train Epoch: 10: 100%|██████████| 3125/3125 [09:49<00:00,  5.30Batch/s, loss=0.671820, top1=17.00%, top5=65.80%]\n",
      "validation Epoch: 10: 100%|██████████| 625/625 [00:41<00:00, 14.95Batch/s, loss=0.308222, top1=20.99%, top5=70.43%]\n"
     ]
    },
    {
     "name": "stdout",
     "output_type": "stream",
     "text": [
      "\n",
      "\n"
     ]
    },
    {
     "name": "stderr",
     "output_type": "stream",
     "text": [
      "train Epoch: 11: 100%|██████████| 3125/3125 [09:55<00:00,  5.25Batch/s, loss=0.223888, top1=17.79%, top5=66.25%]\n",
      "validation Epoch: 11: 100%|██████████| 625/625 [00:41<00:00, 14.96Batch/s, loss=0.157791, top1=21.70%, top5=70.83%]\n"
     ]
    },
    {
     "name": "stdout",
     "output_type": "stream",
     "text": [
      "\n",
      "\n"
     ]
    },
    {
     "name": "stderr",
     "output_type": "stream",
     "text": [
      "train Epoch: 12: 100%|██████████| 3125/3125 [09:54<00:00,  5.25Batch/s, loss=5.244358, top1=17.95%, top5=67.16%]\n",
      "validation Epoch: 12: 100%|██████████| 625/625 [00:41<00:00, 14.92Batch/s, loss=0.211208, top1=24.36%, top5=77.96%]\n"
     ]
    },
    {
     "name": "stdout",
     "output_type": "stream",
     "text": [
      "\n",
      "\n"
     ]
    },
    {
     "name": "stderr",
     "output_type": "stream",
     "text": [
      "train Epoch: 13: 100%|██████████| 3125/3125 [09:53<00:00,  5.26Batch/s, loss=0.206504, top1=20.22%, top5=70.35%]\n",
      "validation Epoch: 13: 100%|██████████| 625/625 [00:41<00:00, 14.93Batch/s, loss=0.128721, top1=25.13%, top5=78.68%]\n"
     ]
    },
    {
     "name": "stdout",
     "output_type": "stream",
     "text": [
      "\n",
      "\n"
     ]
    },
    {
     "name": "stderr",
     "output_type": "stream",
     "text": [
      "train Epoch: 14: 100%|██████████| 3125/3125 [09:54<00:00,  5.26Batch/s, loss=0.148343, top1=21.84%, top5=73.81%]\n",
      "validation Epoch: 14: 100%|██████████| 625/625 [00:41<00:00, 14.94Batch/s, loss=0.126898, top1=25.88%, top5=76.26%]\n"
     ]
    },
    {
     "name": "stdout",
     "output_type": "stream",
     "text": [
      "\n",
      "\n"
     ]
    },
    {
     "name": "stderr",
     "output_type": "stream",
     "text": [
      "train Epoch: 15: 100%|██████████| 3125/3125 [09:55<00:00,  5.25Batch/s, loss=0.140731, top1=23.09%, top5=75.80%]\n",
      "validation Epoch: 15: 100%|██████████| 625/625 [00:41<00:00, 14.94Batch/s, loss=0.124482, top1=26.87%, top5=79.38%]\n"
     ]
    },
    {
     "name": "stdout",
     "output_type": "stream",
     "text": [
      "\n",
      "\n"
     ]
    },
    {
     "name": "stderr",
     "output_type": "stream",
     "text": [
      "train Epoch: 16: 100%|██████████| 3125/3125 [09:54<00:00,  5.25Batch/s, loss=0.140983, top1=23.77%, top5=76.91%]\n",
      "validation Epoch: 16: 100%|██████████| 625/625 [00:42<00:00, 14.62Batch/s, loss=0.118874, top1=28.16%, top5=82.51%]\n"
     ]
    },
    {
     "name": "stdout",
     "output_type": "stream",
     "text": [
      "\n",
      "\n"
     ]
    },
    {
     "name": "stderr",
     "output_type": "stream",
     "text": [
      "train Epoch: 17:  96%|█████████▋| 3014/3125 [09:34<00:21,  5.21Batch/s, loss=0.121873, top1=27.97%, top5=81.37%]"
     ]
    }
   ],
   "source": [
    "trainer.train()"
   ]
  }
 ],
 "metadata": {
  "kernelspec": {
   "display_name": "Python 3.8.7 64-bit (system)",
   "language": "python",
   "name": "python3"
  },
  "language_info": {
   "codemirror_mode": {
    "name": "ipython",
    "version": 3
   },
   "file_extension": ".py",
   "mimetype": "text/x-python",
   "name": "python",
   "nbconvert_exporter": "python",
   "pygments_lexer": "ipython3",
   "version": "3.8.7"
  },
  "orig_nbformat": 4,
  "vscode": {
   "interpreter": {
    "hash": "a0503cd272f4e60dfbd7907e20bb095a1c0b2d6fab5f23904edfa33d092ec8bd"
   }
  }
 },
 "nbformat": 4,
 "nbformat_minor": 2
}
