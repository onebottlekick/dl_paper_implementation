{
 "cells": [
  {
   "cell_type": "code",
   "execution_count": 1,
   "metadata": {},
   "outputs": [],
   "source": [
    "import sys\n",
    "sys.path.append('../')\n",
    "\n",
    "import torch\n",
    "import torch.nn as nn\n",
    "from torch.utils.data import DataLoader\n",
    "from torchvision import datasets, transforms\n",
    "\n",
    "from configs import cifar10_config\n",
    "from model import ViT\n",
    "from utils import Trainer, WarmupCosineSchedule, WarmupLinearSchedule, build_model"
   ]
  },
  {
   "cell_type": "code",
   "execution_count": 2,
   "metadata": {},
   "outputs": [],
   "source": [
    "device = 'cuda' if torch.cuda.is_available() else 'cpu'"
   ]
  },
  {
   "cell_type": "code",
   "execution_count": 3,
   "metadata": {},
   "outputs": [],
   "source": [
    "learning_rate = 1e-3\n",
    "batch_size = 64\n",
    "num_epochs = 20"
   ]
  },
  {
   "cell_type": "code",
   "execution_count": 4,
   "metadata": {},
   "outputs": [],
   "source": [
    "transform = transforms.Compose([\n",
    "    transforms.ToTensor(),\n",
    "    transforms.Normalize((0.5, 0.5, 0.5), (0.5, 0.5, 0.5))\n",
    "])\n",
    "\n",
    "train_dataset = datasets.CIFAR10(root='../datasets', train=True, transform=transform)\n",
    "val_dataset = datasets.CIFAR10(root='../datasets', train=False, transform=transform)\n",
    "\n",
    "train_loader = DataLoader(train_dataset, batch_size=batch_size, shuffle=True)\n",
    "val_loader = DataLoader(val_dataset, batch_size=batch_size, shuffle=True)"
   ]
  },
  {
   "cell_type": "code",
   "execution_count": 5,
   "metadata": {},
   "outputs": [],
   "source": [
    "model_config = cifar10_config()\n",
    "model = build_model(ViT, model_config).to(device)"
   ]
  },
  {
   "cell_type": "code",
   "execution_count": 6,
   "metadata": {},
   "outputs": [],
   "source": [
    "optimizer = torch.optim.Adam(model.parameters(), lr=learning_rate)\n",
    "scheduler = WarmupCosineSchedule(optimizer, num_epochs//5, num_epochs)\n",
    "criterion = nn.CrossEntropyLoss()"
   ]
  },
  {
   "cell_type": "code",
   "execution_count": 7,
   "metadata": {},
   "outputs": [],
   "source": [
    "trainer = Trainer(model, {'train':train_loader, 'validation':val_loader}, criterion, optimizer, scheduler, num_epochs, (1, ), 'pretrained/cifar10.pth', device)"
   ]
  },
  {
   "cell_type": "code",
   "execution_count": 8,
   "metadata": {},
   "outputs": [
    {
     "name": "stderr",
     "output_type": "stream",
     "text": [
      "train Epoch: 1: 100%|██████████| 782/782 [00:27<00:00, 28.14Batch/s, loss=12.131070, top1=10.31%, top5=49.01%]\n",
      "validation Epoch: 1: 100%|██████████| 157/157 [00:02<00:00, 59.60Batch/s, loss=13.643114, top1=10.14%, top5=49.45%]\n"
     ]
    },
    {
     "name": "stdout",
     "output_type": "stream",
     "text": [
      "\n",
      "\n"
     ]
    },
    {
     "name": "stderr",
     "output_type": "stream",
     "text": [
      "train Epoch: 2: 100%|██████████| 782/782 [00:29<00:00, 26.81Batch/s, loss=1.777609, top1=15.60%, top5=61.33%]\n",
      "validation Epoch: 2: 100%|██████████| 157/157 [00:02<00:00, 58.46Batch/s, loss=0.309538, top1=22.44%, top5=71.61%]\n"
     ]
    },
    {
     "name": "stdout",
     "output_type": "stream",
     "text": [
      "\n",
      "\n"
     ]
    },
    {
     "name": "stderr",
     "output_type": "stream",
     "text": [
      "train Epoch: 3: 100%|██████████| 782/782 [00:29<00:00, 26.89Batch/s, loss=0.276000, top1=17.89%, top5=66.64%]\n",
      "validation Epoch: 3: 100%|██████████| 157/157 [00:02<00:00, 58.59Batch/s, loss=0.146424, top1=23.87%, top5=74.56%]\n"
     ]
    },
    {
     "name": "stdout",
     "output_type": "stream",
     "text": [
      "\n",
      "\n"
     ]
    },
    {
     "name": "stderr",
     "output_type": "stream",
     "text": [
      "train Epoch: 4: 100%|██████████| 782/782 [00:28<00:00, 27.63Batch/s, loss=0.164749, top1=20.72%, top5=71.64%]\n",
      "validation Epoch: 4: 100%|██████████| 157/157 [00:02<00:00, 65.96Batch/s, loss=0.140339, top1=25.71%, top5=78.63%]\n"
     ]
    },
    {
     "name": "stdout",
     "output_type": "stream",
     "text": [
      "\n",
      "\n"
     ]
    },
    {
     "name": "stderr",
     "output_type": "stream",
     "text": [
      "train Epoch: 5: 100%|██████████| 782/782 [00:27<00:00, 28.56Batch/s, loss=0.138626, top1=23.88%, top5=76.45%]\n",
      "validation Epoch: 5: 100%|██████████| 157/157 [00:02<00:00, 62.79Batch/s, loss=0.123583, top1=28.14%, top5=79.87%]\n"
     ]
    },
    {
     "name": "stdout",
     "output_type": "stream",
     "text": [
      "\n",
      "\n"
     ]
    },
    {
     "name": "stderr",
     "output_type": "stream",
     "text": [
      "train Epoch: 6: 100%|██████████| 782/782 [00:26<00:00, 30.00Batch/s, loss=0.135023, top1=25.61%, top5=78.91%]\n",
      "validation Epoch: 6: 100%|██████████| 157/157 [00:02<00:00, 66.78Batch/s, loss=0.118324, top1=30.99%, top5=84.38%]\n"
     ]
    },
    {
     "name": "stdout",
     "output_type": "stream",
     "text": [
      "\n",
      "\n"
     ]
    },
    {
     "name": "stderr",
     "output_type": "stream",
     "text": [
      "train Epoch: 7: 100%|██████████| 782/782 [00:26<00:00, 30.04Batch/s, loss=0.122149, top1=29.55%, top5=82.42%]\n",
      "validation Epoch: 7: 100%|██████████| 157/157 [00:02<00:00, 64.36Batch/s, loss=0.115094, top1=32.57%, top5=85.25%]\n"
     ]
    },
    {
     "name": "stdout",
     "output_type": "stream",
     "text": [
      "\n",
      "\n"
     ]
    },
    {
     "name": "stderr",
     "output_type": "stream",
     "text": [
      "train Epoch: 8: 100%|██████████| 782/782 [00:25<00:00, 30.16Batch/s, loss=0.121431, top1=30.28%, top5=83.33%]\n",
      "validation Epoch: 8: 100%|██████████| 157/157 [00:02<00:00, 68.24Batch/s, loss=0.113139, top1=35.18%, top5=85.31%]\n"
     ]
    },
    {
     "name": "stdout",
     "output_type": "stream",
     "text": [
      "\n",
      "\n"
     ]
    },
    {
     "name": "stderr",
     "output_type": "stream",
     "text": [
      "train Epoch: 9: 100%|██████████| 782/782 [00:26<00:00, 29.57Batch/s, loss=0.113101, top1=33.97%, top5=85.73%]\n",
      "validation Epoch: 9: 100%|██████████| 157/157 [00:02<00:00, 64.37Batch/s, loss=0.104506, top1=37.91%, top5=88.80%]\n"
     ]
    },
    {
     "name": "stdout",
     "output_type": "stream",
     "text": [
      "\n",
      "\n"
     ]
    },
    {
     "name": "stderr",
     "output_type": "stream",
     "text": [
      "train Epoch: 10: 100%|██████████| 782/782 [00:26<00:00, 29.49Batch/s, loss=0.109588, top1=36.03%, top5=87.09%]\n",
      "validation Epoch: 10: 100%|██████████| 157/157 [00:02<00:00, 65.85Batch/s, loss=0.103108, top1=39.96%, top5=89.15%]\n"
     ]
    },
    {
     "name": "stdout",
     "output_type": "stream",
     "text": [
      "\n",
      "\n"
     ]
    },
    {
     "name": "stderr",
     "output_type": "stream",
     "text": [
      "train Epoch: 11: 100%|██████████| 782/782 [00:26<00:00, 29.02Batch/s, loss=0.113757, top1=36.36%, top5=86.96%]\n",
      "validation Epoch: 11: 100%|██████████| 157/157 [00:02<00:00, 66.10Batch/s, loss=0.107495, top1=37.99%, top5=88.43%]\n"
     ]
    },
    {
     "name": "stdout",
     "output_type": "stream",
     "text": [
      "\n",
      "\n"
     ]
    },
    {
     "name": "stderr",
     "output_type": "stream",
     "text": [
      "train Epoch: 12: 100%|██████████| 782/782 [00:26<00:00, 30.07Batch/s, loss=0.102813, top1=40.06%, top5=89.07%]\n",
      "validation Epoch: 12: 100%|██████████| 157/157 [00:02<00:00, 67.47Batch/s, loss=0.100002, top1=40.94%, top5=90.90%]\n"
     ]
    },
    {
     "name": "stdout",
     "output_type": "stream",
     "text": [
      "\n",
      "\n"
     ]
    },
    {
     "name": "stderr",
     "output_type": "stream",
     "text": [
      "train Epoch: 13: 100%|██████████| 782/782 [00:26<00:00, 29.70Batch/s, loss=0.098743, top1=42.22%, top5=90.19%]\n",
      "validation Epoch: 13: 100%|██████████| 157/157 [00:02<00:00, 65.09Batch/s, loss=0.094414, top1=45.43%, top5=91.59%]\n"
     ]
    },
    {
     "name": "stdout",
     "output_type": "stream",
     "text": [
      "\n",
      "\n"
     ]
    },
    {
     "name": "stderr",
     "output_type": "stream",
     "text": [
      "train Epoch: 14: 100%|██████████| 782/782 [00:26<00:00, 29.62Batch/s, loss=0.095013, top1=44.77%, top5=91.10%]\n",
      "validation Epoch: 14: 100%|██████████| 157/157 [00:02<00:00, 65.97Batch/s, loss=0.090790, top1=47.34%, top5=92.27%]\n"
     ]
    },
    {
     "name": "stdout",
     "output_type": "stream",
     "text": [
      "\n",
      "\n"
     ]
    },
    {
     "name": "stderr",
     "output_type": "stream",
     "text": [
      "train Epoch: 15: 100%|██████████| 782/782 [00:26<00:00, 29.08Batch/s, loss=0.091193, top1=46.82%, top5=92.04%]\n",
      "validation Epoch: 15: 100%|██████████| 157/157 [00:02<00:00, 62.42Batch/s, loss=0.088553, top1=48.77%, top5=93.22%]\n"
     ]
    },
    {
     "name": "stdout",
     "output_type": "stream",
     "text": [
      "\n",
      "\n"
     ]
    },
    {
     "name": "stderr",
     "output_type": "stream",
     "text": [
      "train Epoch: 16: 100%|██████████| 782/782 [00:27<00:00, 28.89Batch/s, loss=0.087658, top1=48.95%, top5=92.89%]\n",
      "validation Epoch: 16: 100%|██████████| 157/157 [00:02<00:00, 64.71Batch/s, loss=0.084790, top1=50.62%, top5=93.72%]\n"
     ]
    },
    {
     "name": "stdout",
     "output_type": "stream",
     "text": [
      "\n",
      "\n"
     ]
    },
    {
     "name": "stderr",
     "output_type": "stream",
     "text": [
      "train Epoch: 17: 100%|██████████| 782/782 [00:27<00:00, 28.50Batch/s, loss=0.084262, top1=51.18%, top5=93.49%]\n",
      "validation Epoch: 17: 100%|██████████| 157/157 [00:02<00:00, 61.13Batch/s, loss=0.082263, top1=51.97%, top5=94.04%]\n"
     ]
    },
    {
     "name": "stdout",
     "output_type": "stream",
     "text": [
      "\n",
      "\n"
     ]
    },
    {
     "name": "stderr",
     "output_type": "stream",
     "text": [
      "train Epoch: 18: 100%|██████████| 782/782 [00:26<00:00, 29.01Batch/s, loss=0.081422, top1=52.70%, top5=93.99%]\n",
      "validation Epoch: 18: 100%|██████████| 157/157 [00:02<00:00, 68.07Batch/s, loss=0.080995, top1=52.99%, top5=94.42%]\n"
     ]
    },
    {
     "name": "stdout",
     "output_type": "stream",
     "text": [
      "\n",
      "\n"
     ]
    },
    {
     "name": "stderr",
     "output_type": "stream",
     "text": [
      "train Epoch: 19: 100%|██████████| 782/782 [00:25<00:00, 30.82Batch/s, loss=0.079762, top1=53.83%, top5=94.43%]\n",
      "validation Epoch: 19: 100%|██████████| 157/157 [00:02<00:00, 67.99Batch/s, loss=0.079668, top1=54.29%, top5=94.44%]\n"
     ]
    },
    {
     "name": "stdout",
     "output_type": "stream",
     "text": [
      "\n",
      "\n"
     ]
    },
    {
     "name": "stderr",
     "output_type": "stream",
     "text": [
      "train Epoch: 20: 100%|██████████| 782/782 [00:25<00:00, 31.14Batch/s, loss=0.078313, top1=54.52%, top5=94.66%]\n",
      "validation Epoch: 20: 100%|██████████| 157/157 [00:02<00:00, 68.83Batch/s, loss=0.079280, top1=54.49%, top5=94.45%]"
     ]
    },
    {
     "name": "stdout",
     "output_type": "stream",
     "text": [
      "\n",
      "\n"
     ]
    },
    {
     "name": "stderr",
     "output_type": "stream",
     "text": [
      "\n"
     ]
    }
   ],
   "source": [
    "trainer.train()"
   ]
  }
 ],
 "metadata": {
  "kernelspec": {
   "display_name": "Python 3.8.7 64-bit (system)",
   "language": "python",
   "name": "python3"
  },
  "language_info": {
   "codemirror_mode": {
    "name": "ipython",
    "version": 3
   },
   "file_extension": ".py",
   "mimetype": "text/x-python",
   "name": "python",
   "nbconvert_exporter": "python",
   "pygments_lexer": "ipython3",
   "version": "3.8.7"
  },
  "orig_nbformat": 4,
  "vscode": {
   "interpreter": {
    "hash": "a0503cd272f4e60dfbd7907e20bb095a1c0b2d6fab5f23904edfa33d092ec8bd"
   }
  }
 },
 "nbformat": 4,
 "nbformat_minor": 2
}
