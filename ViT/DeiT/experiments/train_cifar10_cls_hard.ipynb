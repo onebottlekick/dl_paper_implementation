{
 "cells": [
  {
   "cell_type": "code",
   "execution_count": null,
   "metadata": {},
   "outputs": [],
   "source": [
    "import sys\n",
    "sys.path.append('../')\n",
    "\n",
    "import torch\n",
    "import torch.nn as nn\n",
    "from torch.utils.data import DataLoader\n",
    "from torchvision import datasets, transforms\n",
    "\n",
    "from configs import b16_config\n",
    "from loss import DistillationLoss\n",
    "from model import DeiT\n",
    "from teacher_model import ResNet50\n",
    "from utils import Trainer, WarmupCosineSchedule, WarmupLinearSchedule, build_model, build_teacher_model"
   ]
  },
  {
   "cell_type": "code",
   "execution_count": null,
   "metadata": {},
   "outputs": [],
   "source": [
    "device = 'cuda' if torch.cuda.is_available() else 'cpu'"
   ]
  },
  {
   "cell_type": "code",
   "execution_count": null,
   "metadata": {},
   "outputs": [],
   "source": [
    "learning_rate = 1e-3\n",
    "batch_size = 32\n",
    "num_epochs = 20"
   ]
  },
  {
   "cell_type": "code",
   "execution_count": null,
   "metadata": {},
   "outputs": [],
   "source": [
    "transform = transforms.Compose([\n",
    "    transforms.Resize((224, 224)),\n",
    "    transforms.ToTensor(),\n",
    "    transforms.Normalize((0.5, 0.5, 0.5), (0.5, 0.5, 0.5))\n",
    "])\n",
    "\n",
    "train_dataset = datasets.CIFAR10(root='../datasets', train=True, transform=transform)\n",
    "val_dataset = datasets.CIFAR10(root='../datasets', train=False, transform=transform)\n",
    "\n",
    "train_loader = DataLoader(train_dataset, batch_size=batch_size, shuffle=True)\n",
    "val_loader = DataLoader(val_dataset, batch_size=batch_size, shuffle=True)"
   ]
  },
  {
   "cell_type": "code",
   "execution_count": null,
   "metadata": {},
   "outputs": [],
   "source": [
    "distil_type = 'hard'\n",
    "distil_token_type = 'cls'\n",
    "alpha = 0.5\n",
    "tau = 3.0"
   ]
  },
  {
   "cell_type": "code",
   "execution_count": null,
   "metadata": {},
   "outputs": [],
   "source": [
    "model_config = b16_config()\n",
    "model_config.update({'num_classes':10})\n",
    "model = build_model(DeiT, b16_config()).to(device)\n",
    "teacher_model = build_teacher_model(ResNet50, 10).to(device)\n",
    "teacher_type = 'resnet'"
   ]
  },
  {
   "cell_type": "code",
   "execution_count": null,
   "metadata": {},
   "outputs": [],
   "source": [
    "optimizer = torch.optim.Adam(model.parameters(), lr=learning_rate)\n",
    "scheduler = WarmupCosineSchedule(optimizer, num_epochs//5, num_epochs)\n",
    "base_criterion = nn.CrossEntropyLoss()\n",
    "criterion = DistillationLoss(base_criterion, teacher_model, distil_type, alpha, tau, teacher_type)"
   ]
  },
  {
   "cell_type": "code",
   "execution_count": null,
   "metadata": {},
   "outputs": [],
   "source": [
    "trainer = Trainer(model, {'train':train_loader, 'validation':val_loader}, criterion, optimizer, scheduler, num_epochs, (1, 5), 'pretrained/cifar10_cls_hard.pth', device, teacher_model, 'loss', True, distil_token_type)"
   ]
  },
  {
   "cell_type": "code",
   "execution_count": null,
   "metadata": {},
   "outputs": [],
   "source": [
    "trainer.train()"
   ]
  }
 ],
 "metadata": {
  "kernelspec": {
   "display_name": "Python 3.8.7 64-bit (system)",
   "language": "python",
   "name": "python3"
  },
  "language_info": {
   "name": "python",
   "version": "3.8.7"
  },
  "orig_nbformat": 4,
  "vscode": {
   "interpreter": {
    "hash": "a0503cd272f4e60dfbd7907e20bb095a1c0b2d6fab5f23904edfa33d092ec8bd"
   }
  }
 },
 "nbformat": 4,
 "nbformat_minor": 2
}
