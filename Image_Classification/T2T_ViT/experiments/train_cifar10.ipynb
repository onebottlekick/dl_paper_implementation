{
 "cells": [
  {
   "cell_type": "code",
   "execution_count": 1,
   "metadata": {},
   "outputs": [],
   "source": [
    "import sys\n",
    "sys.path.append('../')\n",
    "\n",
    "import torch\n",
    "import torch.nn as nn\n",
    "from torch.utils.data import DataLoader\n",
    "from torchvision import datasets, transforms\n",
    "\n",
    "from configs import cifar10_config\n",
    "from model import T2T_ViT\n",
    "from utils import Trainer, WarmupCosineSchedule, WarmupLinearSchedule, build_model"
   ]
  },
  {
   "cell_type": "code",
   "execution_count": 2,
   "metadata": {},
   "outputs": [],
   "source": [
    "device = 'cuda' if torch.cuda.is_available() else 'cpu'"
   ]
  },
  {
   "cell_type": "code",
   "execution_count": 3,
   "metadata": {},
   "outputs": [],
   "source": [
    "learning_rate = 1e-3\n",
    "batch_size = 64\n",
    "num_epochs = 20"
   ]
  },
  {
   "cell_type": "code",
   "execution_count": 4,
   "metadata": {},
   "outputs": [
    {
     "name": "stdout",
     "output_type": "stream",
     "text": [
      "Files already downloaded and verified\n",
      "Files already downloaded and verified\n"
     ]
    }
   ],
   "source": [
    "transform = transforms.Compose([\n",
    "    transforms.ToTensor(),\n",
    "    transforms.Normalize((0.5, 0.5, 0.5), (0.5, 0.5, 0.5))\n",
    "])\n",
    "\n",
    "train_dataset = datasets.CIFAR10(root='../datasets', train=True, transform=transform, download=True)\n",
    "val_dataset = datasets.CIFAR10(root='../datasets', train=False, transform=transform, download=True)\n",
    "\n",
    "train_loader = DataLoader(train_dataset, batch_size=batch_size, shuffle=True)\n",
    "val_loader = DataLoader(val_dataset, batch_size=batch_size, shuffle=True)"
   ]
  },
  {
   "cell_type": "code",
   "execution_count": 5,
   "metadata": {},
   "outputs": [],
   "source": [
    "model_config = cifar10_config()\n",
    "model = build_model(T2T_ViT, model_config).to(device)"
   ]
  },
  {
   "cell_type": "code",
   "execution_count": 6,
   "metadata": {},
   "outputs": [],
   "source": [
    "optimizer = torch.optim.Adam(model.parameters(), lr=learning_rate)\n",
    "scheduler = WarmupCosineSchedule(optimizer, num_epochs//5, num_epochs)\n",
    "criterion = nn.CrossEntropyLoss()"
   ]
  },
  {
   "cell_type": "code",
   "execution_count": 7,
   "metadata": {},
   "outputs": [],
   "source": [
    "trainer = Trainer(model, {'train':train_loader, 'validation':val_loader}, criterion, optimizer, scheduler, num_epochs, (1, ), 'pretrained/cifar10.pth', device)"
   ]
  },
  {
   "cell_type": "code",
   "execution_count": 8,
   "metadata": {},
   "outputs": [
    {
     "name": "stderr",
     "output_type": "stream",
     "text": [
      "train Epoch: 1: 100%|██████████| 782/782 [01:01<00:00, 12.73Batch/s, loss=0.217143, top1=9.16%, top5=49.96%]\n",
      "validation Epoch: 1: 100%|██████████| 157/157 [00:03<00:00, 40.87Batch/s, loss=0.212786, top1=9.17%, top5=50.18%]\n"
     ]
    },
    {
     "name": "stdout",
     "output_type": "stream",
     "text": [
      "\n",
      "\n"
     ]
    },
    {
     "name": "stderr",
     "output_type": "stream",
     "text": [
      "train Epoch: 2: 100%|██████████| 782/782 [00:59<00:00, 13.08Batch/s, loss=0.111519, top1=36.51%, top5=85.44%]\n",
      "validation Epoch: 2: 100%|██████████| 157/157 [00:03<00:00, 41.01Batch/s, loss=0.095891, top1=44.43%, top5=90.64%]\n"
     ]
    },
    {
     "name": "stdout",
     "output_type": "stream",
     "text": [
      "\n",
      "\n"
     ]
    },
    {
     "name": "stderr",
     "output_type": "stream",
     "text": [
      "train Epoch: 3: 100%|██████████| 782/782 [00:59<00:00, 13.13Batch/s, loss=0.097234, top1=44.07%, top5=90.25%]\n",
      "validation Epoch: 3: 100%|██████████| 157/157 [00:03<00:00, 40.93Batch/s, loss=0.093101, top1=47.47%, top5=91.64%]\n"
     ]
    },
    {
     "name": "stdout",
     "output_type": "stream",
     "text": [
      "\n",
      "\n"
     ]
    },
    {
     "name": "stderr",
     "output_type": "stream",
     "text": [
      "train Epoch: 4: 100%|██████████| 782/782 [00:59<00:00, 13.21Batch/s, loss=0.091427, top1=47.74%, top5=91.95%]\n",
      "validation Epoch: 4: 100%|██████████| 157/157 [00:03<00:00, 40.17Batch/s, loss=0.091377, top1=47.94%, top5=92.39%]\n"
     ]
    },
    {
     "name": "stdout",
     "output_type": "stream",
     "text": [
      "\n",
      "\n"
     ]
    },
    {
     "name": "stderr",
     "output_type": "stream",
     "text": [
      "train Epoch: 5: 100%|██████████| 782/782 [01:00<00:00, 12.89Batch/s, loss=0.088000, top1=49.61%, top5=92.69%]\n",
      "validation Epoch: 5: 100%|██████████| 157/157 [00:03<00:00, 40.98Batch/s, loss=0.086105, top1=51.18%, top5=93.01%]\n"
     ]
    },
    {
     "name": "stdout",
     "output_type": "stream",
     "text": [
      "\n",
      "\n"
     ]
    },
    {
     "name": "stderr",
     "output_type": "stream",
     "text": [
      "train Epoch: 6: 100%|██████████| 782/782 [00:59<00:00, 13.15Batch/s, loss=0.081952, top1=53.22%, top5=93.87%]\n",
      "validation Epoch: 6: 100%|██████████| 157/157 [00:03<00:00, 39.68Batch/s, loss=0.086006, top1=51.23%, top5=92.96%]\n"
     ]
    },
    {
     "name": "stdout",
     "output_type": "stream",
     "text": [
      "\n",
      "\n"
     ]
    },
    {
     "name": "stderr",
     "output_type": "stream",
     "text": [
      "train Epoch: 7: 100%|██████████| 782/782 [00:59<00:00, 13.06Batch/s, loss=0.078123, top1=55.76%, top5=94.54%]\n",
      "validation Epoch: 7: 100%|██████████| 157/157 [00:03<00:00, 41.54Batch/s, loss=0.084623, top1=52.59%, top5=93.53%]\n"
     ]
    },
    {
     "name": "stdout",
     "output_type": "stream",
     "text": [
      "\n",
      "\n"
     ]
    },
    {
     "name": "stderr",
     "output_type": "stream",
     "text": [
      "train Epoch: 8: 100%|██████████| 782/782 [01:00<00:00, 13.02Batch/s, loss=0.074098, top1=57.82%, top5=95.55%]\n",
      "validation Epoch: 8: 100%|██████████| 157/157 [00:03<00:00, 40.57Batch/s, loss=0.086486, top1=51.63%, top5=93.38%]\n"
     ]
    },
    {
     "name": "stdout",
     "output_type": "stream",
     "text": [
      "\n",
      "\n"
     ]
    },
    {
     "name": "stderr",
     "output_type": "stream",
     "text": [
      "train Epoch: 9: 100%|██████████| 782/782 [01:00<00:00, 13.03Batch/s, loss=0.069753, top1=60.05%, top5=96.11%]\n",
      "validation Epoch: 9: 100%|██████████| 157/157 [00:03<00:00, 40.47Batch/s, loss=0.084594, top1=53.41%, top5=93.74%]\n"
     ]
    },
    {
     "name": "stdout",
     "output_type": "stream",
     "text": [
      "\n",
      "\n"
     ]
    },
    {
     "name": "stderr",
     "output_type": "stream",
     "text": [
      "train Epoch: 10: 100%|██████████| 782/782 [01:00<00:00, 12.92Batch/s, loss=0.063709, top1=63.27%, top5=96.95%]\n",
      "validation Epoch: 10: 100%|██████████| 157/157 [00:04<00:00, 37.87Batch/s, loss=0.086203, top1=54.28%, top5=94.02%]\n"
     ]
    },
    {
     "name": "stdout",
     "output_type": "stream",
     "text": [
      "\n",
      "\n"
     ]
    },
    {
     "name": "stderr",
     "output_type": "stream",
     "text": [
      "train Epoch: 11: 100%|██████████| 782/782 [01:03<00:00, 12.31Batch/s, loss=0.056937, top1=67.49%, top5=97.65%]\n",
      "validation Epoch: 11: 100%|██████████| 157/157 [00:04<00:00, 37.93Batch/s, loss=0.083679, top1=54.67%, top5=94.01%]\n"
     ]
    },
    {
     "name": "stdout",
     "output_type": "stream",
     "text": [
      "\n",
      "\n"
     ]
    },
    {
     "name": "stderr",
     "output_type": "stream",
     "text": [
      "train Epoch: 12: 100%|██████████| 782/782 [01:03<00:00, 12.28Batch/s, loss=0.048464, top1=72.20%, top5=98.56%]\n",
      "validation Epoch: 12: 100%|██████████| 157/157 [00:04<00:00, 37.78Batch/s, loss=0.090819, top1=55.47%, top5=93.95%]\n"
     ]
    },
    {
     "name": "stdout",
     "output_type": "stream",
     "text": [
      "\n",
      "\n"
     ]
    },
    {
     "name": "stderr",
     "output_type": "stream",
     "text": [
      "train Epoch: 13: 100%|██████████| 782/782 [01:04<00:00, 12.13Batch/s, loss=0.038292, top1=77.97%, top5=99.23%]\n",
      "validation Epoch: 13: 100%|██████████| 157/157 [00:04<00:00, 37.47Batch/s, loss=0.093736, top1=56.61%, top5=93.66%]\n"
     ]
    },
    {
     "name": "stdout",
     "output_type": "stream",
     "text": [
      "\n",
      "\n"
     ]
    },
    {
     "name": "stderr",
     "output_type": "stream",
     "text": [
      "train Epoch: 14: 100%|██████████| 782/782 [01:03<00:00, 12.37Batch/s, loss=0.027211, top1=84.24%, top5=99.69%]\n",
      "validation Epoch: 14: 100%|██████████| 157/157 [00:03<00:00, 40.82Batch/s, loss=0.111820, top1=56.15%, top5=93.56%]\n"
     ]
    },
    {
     "name": "stdout",
     "output_type": "stream",
     "text": [
      "\n",
      "\n"
     ]
    },
    {
     "name": "stderr",
     "output_type": "stream",
     "text": [
      "train Epoch: 15: 100%|██████████| 782/782 [00:59<00:00, 13.16Batch/s, loss=0.017911, top1=89.58%, top5=99.90%]\n",
      "validation Epoch: 15: 100%|██████████| 157/157 [00:03<00:00, 40.79Batch/s, loss=0.126546, top1=57.13%, top5=93.44%]\n"
     ]
    },
    {
     "name": "stdout",
     "output_type": "stream",
     "text": [
      "\n",
      "\n"
     ]
    },
    {
     "name": "stderr",
     "output_type": "stream",
     "text": [
      "train Epoch: 16: 100%|██████████| 782/782 [00:59<00:00, 13.25Batch/s, loss=0.011247, top1=93.64%, top5=99.98%] \n",
      "validation Epoch: 16: 100%|██████████| 157/157 [00:03<00:00, 40.95Batch/s, loss=0.139922, top1=56.95%, top5=93.33%]\n"
     ]
    },
    {
     "name": "stdout",
     "output_type": "stream",
     "text": [
      "\n",
      "\n"
     ]
    },
    {
     "name": "stderr",
     "output_type": "stream",
     "text": [
      "train Epoch: 17: 100%|██████████| 782/782 [00:58<00:00, 13.28Batch/s, loss=0.006937, top1=96.09%, top5=99.99%] \n",
      "validation Epoch: 17: 100%|██████████| 157/157 [00:03<00:00, 41.09Batch/s, loss=0.154883, top1=57.74%, top5=93.52%]\n"
     ]
    },
    {
     "name": "stdout",
     "output_type": "stream",
     "text": [
      "\n",
      "\n"
     ]
    },
    {
     "name": "stderr",
     "output_type": "stream",
     "text": [
      "train Epoch: 18: 100%|██████████| 782/782 [00:58<00:00, 13.27Batch/s, loss=0.004388, top1=97.59%, top5=100.00%]\n",
      "validation Epoch: 18: 100%|██████████| 157/157 [00:03<00:00, 41.04Batch/s, loss=0.163486, top1=58.33%, top5=93.49%]\n"
     ]
    },
    {
     "name": "stdout",
     "output_type": "stream",
     "text": [
      "\n",
      "\n"
     ]
    },
    {
     "name": "stderr",
     "output_type": "stream",
     "text": [
      "train Epoch: 19: 100%|██████████| 782/782 [01:02<00:00, 12.61Batch/s, loss=0.003146, top1=98.34%, top5=100.00%]\n",
      "validation Epoch: 19: 100%|██████████| 157/157 [00:03<00:00, 39.80Batch/s, loss=0.168109, top1=58.56%, top5=93.75%]\n"
     ]
    },
    {
     "name": "stdout",
     "output_type": "stream",
     "text": [
      "\n",
      "\n"
     ]
    },
    {
     "name": "stderr",
     "output_type": "stream",
     "text": [
      "train Epoch: 20: 100%|██████████| 782/782 [01:00<00:00, 13.00Batch/s, loss=0.002476, top1=98.74%, top5=100.00%]\n",
      "validation Epoch: 20: 100%|██████████| 157/157 [00:03<00:00, 40.97Batch/s, loss=0.169486, top1=58.58%, top5=93.85%]"
     ]
    },
    {
     "name": "stdout",
     "output_type": "stream",
     "text": [
      "\n",
      "\n"
     ]
    },
    {
     "name": "stderr",
     "output_type": "stream",
     "text": [
      "\n"
     ]
    }
   ],
   "source": [
    "trainer.train()"
   ]
  }
 ],
 "metadata": {
  "kernelspec": {
   "display_name": "Python 3.8.7 64-bit (system)",
   "language": "python",
   "name": "python3"
  },
  "language_info": {
   "codemirror_mode": {
    "name": "ipython",
    "version": 3
   },
   "file_extension": ".py",
   "mimetype": "text/x-python",
   "name": "python",
   "nbconvert_exporter": "python",
   "pygments_lexer": "ipython3",
   "version": "3.8.7"
  },
  "orig_nbformat": 4,
  "vscode": {
   "interpreter": {
    "hash": "a0503cd272f4e60dfbd7907e20bb095a1c0b2d6fab5f23904edfa33d092ec8bd"
   }
  }
 },
 "nbformat": 4,
 "nbformat_minor": 2
}
