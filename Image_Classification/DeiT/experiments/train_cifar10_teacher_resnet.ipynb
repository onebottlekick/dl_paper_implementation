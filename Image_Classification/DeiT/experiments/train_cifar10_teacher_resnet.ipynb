{
 "cells": [
  {
   "cell_type": "code",
   "execution_count": 1,
   "metadata": {},
   "outputs": [],
   "source": [
    "import sys\n",
    "sys.path.append('../')\n",
    "\n",
    "import torch\n",
    "import torch.nn as nn\n",
    "from torch.utils.data import DataLoader\n",
    "from torchvision import datasets, transforms\n",
    "\n",
    "from utils import Trainer, build_teacher_model\n",
    "from teacher_model import ResNet50"
   ]
  },
  {
   "cell_type": "code",
   "execution_count": 2,
   "metadata": {},
   "outputs": [],
   "source": [
    "device = 'cuda' if torch.cuda.is_available() else 'cpu'"
   ]
  },
  {
   "cell_type": "code",
   "execution_count": 3,
   "metadata": {},
   "outputs": [],
   "source": [
    "learning_rate = 1e-3\n",
    "batch_size = 64\n",
    "num_epochs = 10"
   ]
  },
  {
   "cell_type": "code",
   "execution_count": 4,
   "metadata": {},
   "outputs": [
    {
     "name": "stdout",
     "output_type": "stream",
     "text": [
      "Files already downloaded and verified\n",
      "Files already downloaded and verified\n"
     ]
    }
   ],
   "source": [
    "transform = transforms.Compose([\n",
    "    transforms.Resize((224, 224)),\n",
    "    transforms.ToTensor(),\n",
    "    transforms.Normalize((0.5, 0.5, 0.5), (0.5, 0.5, 0.5))\n",
    "])\n",
    "\n",
    "train_dataset = datasets.CIFAR10(root='../datasets', train=True, transform=transform, download=True)\n",
    "val_dataset = datasets.CIFAR10(root='../datasets', train=False, transform=transform, download=True)\n",
    "\n",
    "train_loader = DataLoader(train_dataset, batch_size=batch_size, shuffle=True)\n",
    "val_loader = DataLoader(val_dataset, batch_size=batch_size, shuffle=True)"
   ]
  },
  {
   "cell_type": "code",
   "execution_count": 5,
   "metadata": {},
   "outputs": [],
   "source": [
    "model = build_teacher_model(ResNet50, num_classes=10)"
   ]
  },
  {
   "cell_type": "code",
   "execution_count": 6,
   "metadata": {},
   "outputs": [],
   "source": [
    "optimizer = torch.optim.Adam(model.parameters(), lr=learning_rate)\n",
    "criterion = nn.CrossEntropyLoss()"
   ]
  },
  {
   "cell_type": "code",
   "execution_count": 7,
   "metadata": {},
   "outputs": [],
   "source": [
    "trainer = Trainer(model, {'train':train_loader, 'validation':val_loader}, criterion, optimizer, None, num_epochs, (1, 5), 'pretrained/cifar10_teacher_resnet.pth', device)"
   ]
  },
  {
   "cell_type": "code",
   "execution_count": 8,
   "metadata": {},
   "outputs": [
    {
     "name": "stderr",
     "output_type": "stream",
     "text": [
      "train Epoch: 1: 100%|██████████| 782/782 [02:53<00:00,  4.50Batch/s, loss=0.047543, top1=73.91%, top5=97.87%]\n",
      "validation Epoch: 1: 100%|██████████| 157/157 [00:15<00:00, 10.19Batch/s, loss=0.039286, top1=78.67%, top5=98.71%]\n"
     ]
    },
    {
     "name": "stdout",
     "output_type": "stream",
     "text": [
      "\n",
      "\n"
     ]
    },
    {
     "name": "stderr",
     "output_type": "stream",
     "text": [
      "train Epoch: 2: 100%|██████████| 782/782 [02:54<00:00,  4.47Batch/s, loss=0.027283, top1=84.93%, top5=99.43%]\n",
      "validation Epoch: 2: 100%|██████████| 157/157 [00:15<00:00, 10.29Batch/s, loss=0.026519, top1=85.26%, top5=99.47%]\n"
     ]
    },
    {
     "name": "stdout",
     "output_type": "stream",
     "text": [
      "\n",
      "\n"
     ]
    },
    {
     "name": "stderr",
     "output_type": "stream",
     "text": [
      "train Epoch: 3: 100%|██████████| 782/782 [02:53<00:00,  4.52Batch/s, loss=0.020852, top1=88.36%, top5=99.69%]\n",
      "validation Epoch: 3: 100%|██████████| 157/157 [00:14<00:00, 10.59Batch/s, loss=0.024294, top1=86.76%, top5=99.58%]\n"
     ]
    },
    {
     "name": "stdout",
     "output_type": "stream",
     "text": [
      "\n",
      "\n"
     ]
    },
    {
     "name": "stderr",
     "output_type": "stream",
     "text": [
      "train Epoch: 4: 100%|██████████| 782/782 [02:45<00:00,  4.72Batch/s, loss=0.016361, top1=90.94%, top5=99.79%]\n",
      "validation Epoch: 4: 100%|██████████| 157/157 [00:14<00:00, 10.80Batch/s, loss=0.023306, top1=87.28%, top5=99.61%]\n"
     ]
    },
    {
     "name": "stdout",
     "output_type": "stream",
     "text": [
      "\n",
      "\n"
     ]
    },
    {
     "name": "stderr",
     "output_type": "stream",
     "text": [
      "train Epoch: 5: 100%|██████████| 782/782 [02:48<00:00,  4.63Batch/s, loss=0.013402, top1=92.58%, top5=99.90%]\n",
      "validation Epoch: 5: 100%|██████████| 157/157 [00:16<00:00,  9.75Batch/s, loss=0.021524, top1=88.55%, top5=99.54%]\n"
     ]
    },
    {
     "name": "stdout",
     "output_type": "stream",
     "text": [
      "\n",
      "\n"
     ]
    },
    {
     "name": "stderr",
     "output_type": "stream",
     "text": [
      "train Epoch: 6: 100%|██████████| 782/782 [02:46<00:00,  4.69Batch/s, loss=0.010330, top1=94.24%, top5=99.93%]\n",
      "validation Epoch: 6: 100%|██████████| 157/157 [00:15<00:00, 10.44Batch/s, loss=0.027616, top1=86.91%, top5=99.43%]\n"
     ]
    },
    {
     "name": "stdout",
     "output_type": "stream",
     "text": [
      "\n",
      "\n"
     ]
    },
    {
     "name": "stderr",
     "output_type": "stream",
     "text": [
      "train Epoch: 7: 100%|██████████| 782/782 [02:52<00:00,  4.54Batch/s, loss=0.008646, top1=95.10%, top5=99.96%] \n",
      "validation Epoch: 7: 100%|██████████| 157/157 [00:15<00:00, 10.24Batch/s, loss=0.025704, top1=88.13%, top5=99.61%]\n"
     ]
    },
    {
     "name": "stdout",
     "output_type": "stream",
     "text": [
      "\n",
      "\n"
     ]
    },
    {
     "name": "stderr",
     "output_type": "stream",
     "text": [
      "train Epoch: 8: 100%|██████████| 782/782 [02:50<00:00,  4.59Batch/s, loss=0.006975, top1=96.06%, top5=99.98%] \n",
      "validation Epoch: 8: 100%|██████████| 157/157 [00:16<00:00,  9.80Batch/s, loss=0.024061, top1=88.63%, top5=99.63%]\n"
     ]
    },
    {
     "name": "stdout",
     "output_type": "stream",
     "text": [
      "\n",
      "\n"
     ]
    },
    {
     "name": "stderr",
     "output_type": "stream",
     "text": [
      "train Epoch: 9: 100%|██████████| 782/782 [02:52<00:00,  4.54Batch/s, loss=0.006239, top1=96.56%, top5=99.97%]\n",
      "validation Epoch: 9: 100%|██████████| 157/157 [00:15<00:00, 10.46Batch/s, loss=0.032146, top1=85.97%, top5=99.63%]\n"
     ]
    },
    {
     "name": "stdout",
     "output_type": "stream",
     "text": [
      "\n",
      "\n"
     ]
    },
    {
     "name": "stderr",
     "output_type": "stream",
     "text": [
      "train Epoch: 10: 100%|██████████| 782/782 [02:55<00:00,  4.47Batch/s, loss=0.004889, top1=97.36%, top5=99.99%] \n",
      "validation Epoch: 10: 100%|██████████| 157/157 [00:15<00:00, 10.22Batch/s, loss=0.021441, top1=90.01%, top5=99.67%]"
     ]
    },
    {
     "name": "stdout",
     "output_type": "stream",
     "text": [
      "\n",
      "\n"
     ]
    },
    {
     "name": "stderr",
     "output_type": "stream",
     "text": [
      "\n"
     ]
    }
   ],
   "source": [
    "trainer.train()"
   ]
  }
 ],
 "metadata": {
  "kernelspec": {
   "display_name": "Python 3.8.7 64-bit (system)",
   "language": "python",
   "name": "python3"
  },
  "language_info": {
   "codemirror_mode": {
    "name": "ipython",
    "version": 3
   },
   "file_extension": ".py",
   "mimetype": "text/x-python",
   "name": "python",
   "nbconvert_exporter": "python",
   "pygments_lexer": "ipython3",
   "version": "3.8.7"
  },
  "orig_nbformat": 4,
  "vscode": {
   "interpreter": {
    "hash": "a0503cd272f4e60dfbd7907e20bb095a1c0b2d6fab5f23904edfa33d092ec8bd"
   }
  }
 },
 "nbformat": 4,
 "nbformat_minor": 2
}
