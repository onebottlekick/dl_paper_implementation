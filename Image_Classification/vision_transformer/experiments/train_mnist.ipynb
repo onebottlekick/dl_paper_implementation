{
 "cells": [
  {
   "cell_type": "code",
   "execution_count": 1,
   "metadata": {},
   "outputs": [],
   "source": [
    "import sys\n",
    "sys.path.append('../')\n",
    "\n",
    "import torch\n",
    "import torch.nn as nn\n",
    "from torch.utils.data import DataLoader\n",
    "from torchvision import datasets, transforms\n",
    "\n",
    "from configs import mnist_config\n",
    "from model import ViT\n",
    "from utils import Trainer, WarmupCosineSchedule, WarmupLinearSchedule, build_model"
   ]
  },
  {
   "cell_type": "code",
   "execution_count": 2,
   "metadata": {},
   "outputs": [],
   "source": [
    "device = 'cuda' if torch.cuda.is_available() else 'cpu'"
   ]
  },
  {
   "cell_type": "code",
   "execution_count": 3,
   "metadata": {},
   "outputs": [],
   "source": [
    "learning_rate = 1e-3\n",
    "batch_size = 64\n",
    "num_epochs = 20"
   ]
  },
  {
   "cell_type": "code",
   "execution_count": 4,
   "metadata": {},
   "outputs": [],
   "source": [
    "transform = transforms.Compose([\n",
    "    transforms.ToTensor(),\n",
    "    transforms.Normalize((0.5), (0.5))\n",
    "])\n",
    "\n",
    "train_dataset = datasets.MNIST(root='../datasets', train=True, transform=transform)\n",
    "val_dataset = datasets.MNIST(root='../datasets', train=False, transform=transform)\n",
    "\n",
    "train_loader = DataLoader(train_dataset, batch_size=batch_size, shuffle=True)\n",
    "val_loader = DataLoader(val_dataset, batch_size=batch_size, shuffle=True)"
   ]
  },
  {
   "cell_type": "code",
   "execution_count": 5,
   "metadata": {},
   "outputs": [],
   "source": [
    "model_config = mnist_config()\n",
    "model = build_model(ViT, model_config).to(device)"
   ]
  },
  {
   "cell_type": "code",
   "execution_count": 6,
   "metadata": {},
   "outputs": [],
   "source": [
    "optimizer = torch.optim.Adam(model.parameters(), lr=learning_rate)\n",
    "scheduler = WarmupCosineSchedule(optimizer, num_epochs//5, num_epochs)\n",
    "criterion = nn.CrossEntropyLoss()"
   ]
  },
  {
   "cell_type": "code",
   "execution_count": 7,
   "metadata": {},
   "outputs": [],
   "source": [
    "trainer = Trainer(model, {'train':train_loader, 'validation':val_loader}, criterion, optimizer, scheduler, num_epochs, (1, ), 'pretrained/mnist.pth', device)"
   ]
  },
  {
   "cell_type": "code",
   "execution_count": 8,
   "metadata": {},
   "outputs": [
    {
     "name": "stderr",
     "output_type": "stream",
     "text": [
      "train Epoch: 1: 100%|██████████| 938/938 [00:30<00:00, 30.64Batch/s, loss=6.023933, top1=11.47%, top5=49.95%]\n",
      "validation Epoch: 1: 100%|██████████| 157/157 [00:02<00:00, 78.36Batch/s, loss=12.052503, top1=11.17%, top5=49.73%]\n"
     ]
    },
    {
     "name": "stdout",
     "output_type": "stream",
     "text": [
      "\n",
      "\n"
     ]
    },
    {
     "name": "stderr",
     "output_type": "stream",
     "text": [
      "train Epoch: 2: 100%|██████████| 938/938 [00:29<00:00, 31.59Batch/s, loss=0.512244, top1=23.11%, top5=69.78%]\n",
      "validation Epoch: 2: 100%|██████████| 157/157 [00:01<00:00, 81.10Batch/s, loss=0.126851, top1=38.09%, top5=90.56%]\n"
     ]
    },
    {
     "name": "stdout",
     "output_type": "stream",
     "text": [
      "\n",
      "\n"
     ]
    },
    {
     "name": "stderr",
     "output_type": "stream",
     "text": [
      "train Epoch: 3: 100%|██████████| 938/938 [00:28<00:00, 32.95Batch/s, loss=0.085171, top1=32.54%, top5=82.55%]\n",
      "validation Epoch: 3: 100%|██████████| 157/157 [00:01<00:00, 81.73Batch/s, loss=0.079065, top1=53.83%, top5=95.20%]\n"
     ]
    },
    {
     "name": "stdout",
     "output_type": "stream",
     "text": [
      "\n",
      "\n"
     ]
    },
    {
     "name": "stderr",
     "output_type": "stream",
     "text": [
      "train Epoch: 4: 100%|██████████| 938/938 [00:28<00:00, 32.74Batch/s, loss=0.047338, top1=48.90%, top5=93.36%]\n",
      "validation Epoch: 4: 100%|██████████| 157/157 [00:02<00:00, 77.59Batch/s, loss=0.054267, top1=68.33%, top5=98.37%]\n"
     ]
    },
    {
     "name": "stdout",
     "output_type": "stream",
     "text": [
      "\n",
      "\n"
     ]
    },
    {
     "name": "stderr",
     "output_type": "stream",
     "text": [
      "train Epoch: 5: 100%|██████████| 938/938 [00:29<00:00, 31.94Batch/s, loss=0.032758, top1=63.91%, top5=97.34%]\n",
      "validation Epoch: 5: 100%|██████████| 157/157 [00:02<00:00, 78.43Batch/s, loss=0.036202, top1=80.50%, top5=99.20%]\n"
     ]
    },
    {
     "name": "stdout",
     "output_type": "stream",
     "text": [
      "\n",
      "\n"
     ]
    },
    {
     "name": "stderr",
     "output_type": "stream",
     "text": [
      "train Epoch: 6: 100%|██████████| 938/938 [00:29<00:00, 32.05Batch/s, loss=0.023088, top1=75.01%, top5=98.73%]\n",
      "validation Epoch: 6: 100%|██████████| 157/157 [00:01<00:00, 78.53Batch/s, loss=0.024910, top1=86.58%, top5=99.42%]\n"
     ]
    },
    {
     "name": "stdout",
     "output_type": "stream",
     "text": [
      "\n",
      "\n"
     ]
    },
    {
     "name": "stderr",
     "output_type": "stream",
     "text": [
      "train Epoch: 7: 100%|██████████| 938/938 [00:29<00:00, 31.94Batch/s, loss=0.018993, top1=80.17%, top5=99.01%]\n",
      "validation Epoch: 7: 100%|██████████| 157/157 [00:01<00:00, 80.09Batch/s, loss=0.025400, top1=87.35%, top5=99.48%]\n"
     ]
    },
    {
     "name": "stdout",
     "output_type": "stream",
     "text": [
      "\n",
      "\n"
     ]
    },
    {
     "name": "stderr",
     "output_type": "stream",
     "text": [
      "train Epoch: 8: 100%|██████████| 938/938 [00:29<00:00, 32.13Batch/s, loss=0.015387, top1=84.12%, top5=99.32%]\n",
      "validation Epoch: 8: 100%|██████████| 157/157 [00:01<00:00, 78.52Batch/s, loss=0.017745, top1=90.84%, top5=99.66%]\n"
     ]
    },
    {
     "name": "stdout",
     "output_type": "stream",
     "text": [
      "\n",
      "\n"
     ]
    },
    {
     "name": "stderr",
     "output_type": "stream",
     "text": [
      "train Epoch: 9: 100%|██████████| 938/938 [00:29<00:00, 31.99Batch/s, loss=0.012963, top1=86.80%, top5=99.47%]\n",
      "validation Epoch: 9: 100%|██████████| 157/157 [00:01<00:00, 78.70Batch/s, loss=0.020843, top1=89.77%, top5=99.62%]\n"
     ]
    },
    {
     "name": "stdout",
     "output_type": "stream",
     "text": [
      "\n",
      "\n"
     ]
    },
    {
     "name": "stderr",
     "output_type": "stream",
     "text": [
      "train Epoch: 10: 100%|██████████| 938/938 [00:29<00:00, 32.10Batch/s, loss=0.011146, top1=88.80%, top5=99.59%]\n",
      "validation Epoch: 10: 100%|██████████| 157/157 [00:02<00:00, 78.23Batch/s, loss=0.017775, top1=91.28%, top5=99.69%]\n"
     ]
    },
    {
     "name": "stdout",
     "output_type": "stream",
     "text": [
      "\n",
      "\n"
     ]
    },
    {
     "name": "stderr",
     "output_type": "stream",
     "text": [
      "train Epoch: 11: 100%|██████████| 938/938 [00:29<00:00, 31.71Batch/s, loss=0.009525, top1=90.45%, top5=99.69%]\n",
      "validation Epoch: 11: 100%|██████████| 157/157 [00:01<00:00, 79.94Batch/s, loss=0.013373, top1=93.48%, top5=99.74%]\n"
     ]
    },
    {
     "name": "stdout",
     "output_type": "stream",
     "text": [
      "\n",
      "\n"
     ]
    },
    {
     "name": "stderr",
     "output_type": "stream",
     "text": [
      "train Epoch: 12: 100%|██████████| 938/938 [00:29<00:00, 31.73Batch/s, loss=0.007984, top1=91.98%, top5=99.77%]\n",
      "validation Epoch: 12: 100%|██████████| 157/157 [00:02<00:00, 76.67Batch/s, loss=0.012360, top1=93.73%, top5=99.83%]\n"
     ]
    },
    {
     "name": "stdout",
     "output_type": "stream",
     "text": [
      "\n",
      "\n"
     ]
    },
    {
     "name": "stderr",
     "output_type": "stream",
     "text": [
      "train Epoch: 13: 100%|██████████| 938/938 [00:29<00:00, 31.64Batch/s, loss=0.006957, top1=93.05%, top5=99.80%]\n",
      "validation Epoch: 13: 100%|██████████| 157/157 [00:02<00:00, 75.01Batch/s, loss=0.010246, top1=94.78%, top5=99.88%]\n"
     ]
    },
    {
     "name": "stdout",
     "output_type": "stream",
     "text": [
      "\n",
      "\n"
     ]
    },
    {
     "name": "stderr",
     "output_type": "stream",
     "text": [
      "train Epoch: 14: 100%|██████████| 938/938 [00:32<00:00, 28.87Batch/s, loss=0.005799, top1=94.19%, top5=99.88%]\n",
      "validation Epoch: 14: 100%|██████████| 157/157 [00:02<00:00, 68.66Batch/s, loss=0.009229, top1=95.45%, top5=99.85%]\n"
     ]
    },
    {
     "name": "stdout",
     "output_type": "stream",
     "text": [
      "\n",
      "\n"
     ]
    },
    {
     "name": "stderr",
     "output_type": "stream",
     "text": [
      "train Epoch: 15: 100%|██████████| 938/938 [00:32<00:00, 28.95Batch/s, loss=0.004856, top1=95.01%, top5=99.88%]\n",
      "validation Epoch: 15: 100%|██████████| 157/157 [00:02<00:00, 67.63Batch/s, loss=0.007627, top1=96.13%, top5=99.92%]\n"
     ]
    },
    {
     "name": "stdout",
     "output_type": "stream",
     "text": [
      "\n",
      "\n"
     ]
    },
    {
     "name": "stderr",
     "output_type": "stream",
     "text": [
      "train Epoch: 16: 100%|██████████| 938/938 [00:32<00:00, 29.07Batch/s, loss=0.004025, top1=95.81%, top5=99.91%]\n",
      "validation Epoch: 16: 100%|██████████| 157/157 [00:02<00:00, 69.23Batch/s, loss=0.007265, top1=96.47%, top5=99.93%]\n"
     ]
    },
    {
     "name": "stdout",
     "output_type": "stream",
     "text": [
      "\n",
      "\n"
     ]
    },
    {
     "name": "stderr",
     "output_type": "stream",
     "text": [
      "train Epoch: 17: 100%|██████████| 938/938 [00:32<00:00, 28.76Batch/s, loss=0.003402, top1=96.46%, top5=99.93%]\n",
      "validation Epoch: 17: 100%|██████████| 157/157 [00:02<00:00, 68.46Batch/s, loss=0.005981, top1=97.10%, top5=99.93%]\n"
     ]
    },
    {
     "name": "stdout",
     "output_type": "stream",
     "text": [
      "\n",
      "\n"
     ]
    },
    {
     "name": "stderr",
     "output_type": "stream",
     "text": [
      "train Epoch: 18: 100%|██████████| 938/938 [00:31<00:00, 29.47Batch/s, loss=0.002861, top1=96.99%, top5=99.97%]\n",
      "validation Epoch: 18: 100%|██████████| 157/157 [00:02<00:00, 69.42Batch/s, loss=0.005784, top1=97.22%, top5=99.94%]\n"
     ]
    },
    {
     "name": "stdout",
     "output_type": "stream",
     "text": [
      "\n",
      "\n"
     ]
    },
    {
     "name": "stderr",
     "output_type": "stream",
     "text": [
      "train Epoch: 19: 100%|██████████| 938/938 [00:31<00:00, 29.35Batch/s, loss=0.002492, top1=97.31%, top5=99.97%]\n",
      "validation Epoch: 19: 100%|██████████| 157/157 [00:02<00:00, 69.84Batch/s, loss=0.005484, top1=97.32%, top5=99.94%]\n"
     ]
    },
    {
     "name": "stdout",
     "output_type": "stream",
     "text": [
      "\n",
      "\n"
     ]
    },
    {
     "name": "stderr",
     "output_type": "stream",
     "text": [
      "train Epoch: 20: 100%|██████████| 938/938 [00:32<00:00, 29.22Batch/s, loss=0.002273, top1=97.58%, top5=99.97%]\n",
      "validation Epoch: 20: 100%|██████████| 157/157 [00:02<00:00, 68.20Batch/s, loss=0.005378, top1=97.32%, top5=99.95%]"
     ]
    },
    {
     "name": "stdout",
     "output_type": "stream",
     "text": [
      "\n",
      "\n"
     ]
    },
    {
     "name": "stderr",
     "output_type": "stream",
     "text": [
      "\n"
     ]
    }
   ],
   "source": [
    "trainer.train()"
   ]
  }
 ],
 "metadata": {
  "kernelspec": {
   "display_name": "Python 3.8.7 64-bit (system)",
   "language": "python",
   "name": "python3"
  },
  "language_info": {
   "codemirror_mode": {
    "name": "ipython",
    "version": 3
   },
   "file_extension": ".py",
   "mimetype": "text/x-python",
   "name": "python",
   "nbconvert_exporter": "python",
   "pygments_lexer": "ipython3",
   "version": "3.8.7"
  },
  "orig_nbformat": 4,
  "vscode": {
   "interpreter": {
    "hash": "a0503cd272f4e60dfbd7907e20bb095a1c0b2d6fab5f23904edfa33d092ec8bd"
   }
  }
 },
 "nbformat": 4,
 "nbformat_minor": 2
}
