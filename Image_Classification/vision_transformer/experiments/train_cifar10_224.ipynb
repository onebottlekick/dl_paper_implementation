{
 "cells": [
  {
   "cell_type": "code",
   "execution_count": 1,
   "metadata": {},
   "outputs": [],
   "source": [
    "import sys\n",
    "sys.path.append('../')\n",
    "\n",
    "import torch\n",
    "import torch.nn as nn\n",
    "from torch.utils.data import DataLoader\n",
    "from torchvision import datasets, transforms\n",
    "\n",
    "from configs import b16_config\n",
    "from model import ViT\n",
    "from utils import Trainer, WarmupCosineSchedule, WarmupLinearSchedule, build_model"
   ]
  },
  {
   "cell_type": "code",
   "execution_count": 2,
   "metadata": {},
   "outputs": [],
   "source": [
    "device = 'cuda' if torch.cuda.is_available() else 'cpu'"
   ]
  },
  {
   "cell_type": "code",
   "execution_count": 3,
   "metadata": {},
   "outputs": [],
   "source": [
    "learning_rate = 1e-3\n",
    "batch_size = 32\n",
    "num_epochs = 20"
   ]
  },
  {
   "cell_type": "code",
   "execution_count": 4,
   "metadata": {},
   "outputs": [],
   "source": [
    "transform = transforms.Compose([\n",
    "    transforms.Resize((224, 224)),\n",
    "    transforms.ToTensor(),\n",
    "    transforms.Normalize((0.5, 0.5, 0.5), (0.5, 0.5, 0.5))\n",
    "])\n",
    "\n",
    "train_dataset = datasets.CIFAR10(root='../datasets', train=True, transform=transform)\n",
    "val_dataset = datasets.CIFAR10(root='../datasets', train=False, transform=transform)\n",
    "\n",
    "train_loader = DataLoader(train_dataset, batch_size=batch_size, shuffle=True)\n",
    "val_loader = DataLoader(val_dataset, batch_size=batch_size, shuffle=True)"
   ]
  },
  {
   "cell_type": "code",
   "execution_count": 5,
   "metadata": {},
   "outputs": [],
   "source": [
    "model_config = b16_config()\n",
    "model_config.update({'num_classes':10})\n",
    "model = build_model(ViT, model_config).to(device)"
   ]
  },
  {
   "cell_type": "code",
   "execution_count": 6,
   "metadata": {},
   "outputs": [],
   "source": [
    "optimizer = torch.optim.Adam(model.parameters(), lr=learning_rate)\n",
    "scheduler = WarmupCosineSchedule(optimizer, num_epochs//5, num_epochs)\n",
    "criterion = nn.CrossEntropyLoss()"
   ]
  },
  {
   "cell_type": "code",
   "execution_count": 7,
   "metadata": {},
   "outputs": [],
   "source": [
    "trainer = Trainer(model, {'train':train_loader, 'validation':val_loader}, criterion, optimizer, scheduler, num_epochs, (1, ), 'pretrained/cifar10_224.pth', device)"
   ]
  },
  {
   "cell_type": "code",
   "execution_count": 8,
   "metadata": {},
   "outputs": [
    {
     "name": "stderr",
     "output_type": "stream",
     "text": [
      "train Epoch: 1: 100%|██████████| 1563/1563 [05:49<00:00,  4.47Batch/s, loss=51.686659, top1=11.24%, top5=52.33%]\n",
      "validation Epoch: 1: 100%|██████████| 313/313 [00:26<00:00, 11.79Batch/s, loss=57.020582, top1=11.78%, top5=51.69%]\n"
     ]
    },
    {
     "name": "stdout",
     "output_type": "stream",
     "text": [
      "\n",
      "\n"
     ]
    },
    {
     "name": "stderr",
     "output_type": "stream",
     "text": [
      "train Epoch: 2: 100%|██████████| 1563/1563 [05:44<00:00,  4.54Batch/s, loss=233.141750, top1=16.09%, top5=62.53%]\n",
      "validation Epoch: 2: 100%|██████████| 313/313 [00:27<00:00, 11.43Batch/s, loss=4.434375, top1=17.94%, top5=68.37%]\n"
     ]
    },
    {
     "name": "stdout",
     "output_type": "stream",
     "text": [
      "\n",
      "\n"
     ]
    },
    {
     "name": "stderr",
     "output_type": "stream",
     "text": [
      "train Epoch: 3: 100%|██████████| 1563/1563 [05:47<00:00,  4.49Batch/s, loss=1229.258404, top1=16.52%, top5=63.02%]\n",
      "validation Epoch: 3: 100%|██████████| 313/313 [00:26<00:00, 11.67Batch/s, loss=7.564097, top1=20.91%, top5=70.12%]\n"
     ]
    },
    {
     "name": "stdout",
     "output_type": "stream",
     "text": [
      "\n",
      "\n"
     ]
    },
    {
     "name": "stderr",
     "output_type": "stream",
     "text": [
      "train Epoch: 4: 100%|██████████| 1563/1563 [05:50<00:00,  4.45Batch/s, loss=2209.669599, top1=17.14%, top5=63.44%]\n",
      "validation Epoch: 4: 100%|██████████| 313/313 [00:27<00:00, 11.53Batch/s, loss=24.505027, top1=17.50%, top5=63.80%]\n"
     ]
    },
    {
     "name": "stdout",
     "output_type": "stream",
     "text": [
      "\n",
      "\n"
     ]
    },
    {
     "name": "stderr",
     "output_type": "stream",
     "text": [
      "train Epoch: 5: 100%|██████████| 1563/1563 [05:53<00:00,  4.42Batch/s, loss=14.057748, top1=18.09%, top5=66.04%]\n",
      "validation Epoch: 5: 100%|██████████| 313/313 [00:27<00:00, 11.31Batch/s, loss=5.040315, top1=17.82%, top5=68.38%]\n"
     ]
    },
    {
     "name": "stdout",
     "output_type": "stream",
     "text": [
      "\n",
      "\n"
     ]
    },
    {
     "name": "stderr",
     "output_type": "stream",
     "text": [
      "train Epoch: 6: 100%|██████████| 1563/1563 [06:01<00:00,  4.32Batch/s, loss=3.273657, top1=18.03%, top5=66.02%]\n",
      "validation Epoch: 6: 100%|██████████| 313/313 [00:27<00:00, 11.31Batch/s, loss=2.131788, top1=17.86%, top5=66.22%]\n"
     ]
    },
    {
     "name": "stdout",
     "output_type": "stream",
     "text": [
      "\n",
      "\n"
     ]
    },
    {
     "name": "stderr",
     "output_type": "stream",
     "text": [
      "train Epoch: 7: 100%|██████████| 1563/1563 [05:57<00:00,  4.37Batch/s, loss=27859.990741, top1=17.48%, top5=64.41%]\n",
      "validation Epoch: 7: 100%|██████████| 313/313 [00:28<00:00, 11.18Batch/s, loss=885.275010, top1=20.95%, top5=68.36%]\n"
     ]
    },
    {
     "name": "stdout",
     "output_type": "stream",
     "text": [
      "\n",
      "\n"
     ]
    },
    {
     "name": "stderr",
     "output_type": "stream",
     "text": [
      "train Epoch: 8: 100%|██████████| 1563/1563 [05:58<00:00,  4.36Batch/s, loss=348.645903, top1=19.12%, top5=68.35%]\n",
      "validation Epoch: 8: 100%|██████████| 313/313 [00:28<00:00, 11.06Batch/s, loss=9611.929273, top1=9.80%, top5=56.03%] \n"
     ]
    },
    {
     "name": "stdout",
     "output_type": "stream",
     "text": [
      "\n",
      "\n"
     ]
    },
    {
     "name": "stderr",
     "output_type": "stream",
     "text": [
      "train Epoch: 9: 100%|██████████| 1563/1563 [05:53<00:00,  4.42Batch/s, loss=630.789184, top1=17.42%, top5=65.18%]\n",
      "validation Epoch: 9: 100%|██████████| 313/313 [00:27<00:00, 11.54Batch/s, loss=75.625204, top1=20.37%, top5=68.29%]\n"
     ]
    },
    {
     "name": "stdout",
     "output_type": "stream",
     "text": [
      "\n",
      "\n"
     ]
    },
    {
     "name": "stderr",
     "output_type": "stream",
     "text": [
      "train Epoch: 10: 100%|██████████| 1563/1563 [05:55<00:00,  4.40Batch/s, loss=80.913816, top1=17.90%, top5=65.38%]\n",
      "validation Epoch: 10: 100%|██████████| 313/313 [00:28<00:00, 11.01Batch/s, loss=29.668176, top1=16.01%, top5=69.06%]\n"
     ]
    },
    {
     "name": "stdout",
     "output_type": "stream",
     "text": [
      "\n",
      "\n"
     ]
    },
    {
     "name": "stderr",
     "output_type": "stream",
     "text": [
      "train Epoch: 11: 100%|██████████| 1563/1563 [06:43<00:00,  3.87Batch/s, loss=4232.542893, top1=16.93%, top5=63.44%]\n",
      "validation Epoch: 11: 100%|██████████| 313/313 [00:28<00:00, 10.93Batch/s, loss=490.847967, top1=17.36%, top5=60.59%]\n"
     ]
    },
    {
     "name": "stdout",
     "output_type": "stream",
     "text": [
      "\n",
      "\n"
     ]
    },
    {
     "name": "stderr",
     "output_type": "stream",
     "text": [
      "train Epoch: 12: 100%|██████████| 1563/1563 [06:41<00:00,  3.90Batch/s, loss=231.117285, top1=16.69%, top5=63.60%] \n",
      "validation Epoch: 12: 100%|██████████| 313/313 [00:29<00:00, 10.77Batch/s, loss=54.812037, top1=19.11%, top5=69.71%]\n"
     ]
    },
    {
     "name": "stdout",
     "output_type": "stream",
     "text": [
      "\n",
      "\n"
     ]
    },
    {
     "name": "stderr",
     "output_type": "stream",
     "text": [
      "train Epoch: 13: 100%|██████████| 1563/1563 [07:14<00:00,  3.59Batch/s, loss=159.230325, top1=16.64%, top5=63.71%]\n",
      "validation Epoch: 13: 100%|██████████| 313/313 [00:32<00:00,  9.64Batch/s, loss=85.173231, top1=20.21%, top5=63.88%]\n"
     ]
    },
    {
     "name": "stdout",
     "output_type": "stream",
     "text": [
      "\n",
      "\n"
     ]
    },
    {
     "name": "stderr",
     "output_type": "stream",
     "text": [
      "train Epoch: 14: 100%|██████████| 1563/1563 [06:45<00:00,  3.86Batch/s, loss=48.804994, top1=17.54%, top5=65.40%]\n",
      "validation Epoch: 14: 100%|██████████| 313/313 [00:30<00:00, 10.22Batch/s, loss=24.145651, top1=20.67%, top5=70.34%]\n"
     ]
    },
    {
     "name": "stdout",
     "output_type": "stream",
     "text": [
      "\n",
      "\n"
     ]
    },
    {
     "name": "stderr",
     "output_type": "stream",
     "text": [
      "train Epoch: 15: 100%|██████████| 1563/1563 [06:55<00:00,  3.77Batch/s, loss=37.141108, top1=17.88%, top5=65.28%] \n",
      "validation Epoch: 15: 100%|██████████| 313/313 [00:31<00:00,  9.94Batch/s, loss=19.235947, top1=15.84%, top5=65.04%]\n"
     ]
    },
    {
     "name": "stdout",
     "output_type": "stream",
     "text": [
      "\n",
      "\n"
     ]
    },
    {
     "name": "stderr",
     "output_type": "stream",
     "text": [
      "train Epoch: 16: 100%|██████████| 1563/1563 [07:08<00:00,  3.65Batch/s, loss=13.508015, top1=18.22%, top5=66.00%]\n",
      "validation Epoch: 16: 100%|██████████| 313/313 [00:32<00:00,  9.78Batch/s, loss=11.642723, top1=14.70%, top5=59.68%]\n"
     ]
    },
    {
     "name": "stdout",
     "output_type": "stream",
     "text": [
      "\n",
      "\n"
     ]
    },
    {
     "name": "stderr",
     "output_type": "stream",
     "text": [
      "train Epoch: 17: 100%|██████████| 1563/1563 [07:09<00:00,  3.64Batch/s, loss=9.097540, top1=18.42%, top5=66.07%]\n",
      "validation Epoch: 17: 100%|██████████| 313/313 [00:33<00:00,  9.31Batch/s, loss=364.442802, top1=9.98%, top5=50.51%] \n"
     ]
    },
    {
     "name": "stdout",
     "output_type": "stream",
     "text": [
      "\n",
      "\n"
     ]
    },
    {
     "name": "stderr",
     "output_type": "stream",
     "text": [
      "train Epoch: 18: 100%|██████████| 1563/1563 [06:44<00:00,  3.87Batch/s, loss=6.383918, top1=18.24%, top5=66.73%]\n",
      "validation Epoch: 18: 100%|██████████| 313/313 [00:33<00:00,  9.35Batch/s, loss=3.695233, top1=15.53%, top5=66.32%]\n"
     ]
    },
    {
     "name": "stdout",
     "output_type": "stream",
     "text": [
      "\n",
      "\n"
     ]
    },
    {
     "name": "stderr",
     "output_type": "stream",
     "text": [
      "train Epoch: 19: 100%|██████████| 1563/1563 [06:44<00:00,  3.87Batch/s, loss=1.782707, top1=18.97%, top5=68.35%]\n",
      "validation Epoch: 19: 100%|██████████| 313/313 [00:31<00:00, 10.03Batch/s, loss=1.928793, top1=16.53%, top5=62.42%]\n"
     ]
    },
    {
     "name": "stdout",
     "output_type": "stream",
     "text": [
      "\n",
      "\n"
     ]
    },
    {
     "name": "stderr",
     "output_type": "stream",
     "text": [
      "train Epoch: 20: 100%|██████████| 1563/1563 [06:58<00:00,  3.74Batch/s, loss=1.037173, top1=19.63%, top5=69.54%]\n",
      "validation Epoch: 20: 100%|██████████| 313/313 [00:30<00:00, 10.17Batch/s, loss=1.888574, top1=13.74%, top5=67.04%]\n"
     ]
    },
    {
     "name": "stdout",
     "output_type": "stream",
     "text": [
      "\n",
      "\n"
     ]
    }
   ],
   "source": [
    "trainer.train()"
   ]
  }
 ],
 "metadata": {
  "kernelspec": {
   "display_name": "Python 3.8.7 64-bit (system)",
   "language": "python",
   "name": "python3"
  },
  "language_info": {
   "codemirror_mode": {
    "name": "ipython",
    "version": 3
   },
   "file_extension": ".py",
   "mimetype": "text/x-python",
   "name": "python",
   "nbconvert_exporter": "python",
   "pygments_lexer": "ipython3",
   "version": "3.8.7"
  },
  "orig_nbformat": 4,
  "vscode": {
   "interpreter": {
    "hash": "a0503cd272f4e60dfbd7907e20bb095a1c0b2d6fab5f23904edfa33d092ec8bd"
   }
  }
 },
 "nbformat": 4,
 "nbformat_minor": 2
}
